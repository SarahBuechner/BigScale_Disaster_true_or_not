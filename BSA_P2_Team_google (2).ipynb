{
  "nbformat": 4,
  "nbformat_minor": 0,
  "metadata": {
    "colab": {
      "name": "BSA_P2_Team_google.ipynb",
      "provenance": [],
      "collapsed_sections": []
    },
    "kernelspec": {
      "name": "python3",
      "display_name": "Python 3"
    }
  },
  "cells": [
    {
      "cell_type": "markdown",
      "metadata": {
        "id": "I8opjh6maWyr",
        "colab_type": "text"
      },
      "source": [
        "#**Project 2: Disaster or not? Tweet classification**\n",
        "\n",
        "###Team google: \n",
        "Florian Emery - Ibrahim Ounon - Pau Gallardo - Sarah Büchner \n",
        "\n",
        "[Github Repository Team Google](https://github.com/SarahBuechner/BigScale_Disaster_true_or_not)\n",
        "\n",
        "### Project Video"
      ]
    },
    {
      "cell_type": "code",
      "metadata": {
        "id": "PQnOwMxba79j",
        "colab_type": "code",
        "colab": {
          "base_uri": "https://localhost:8080/",
          "height": 483
        },
        "outputId": "54e2d970-4425-40c1-9987-c93af108e84e"
      },
      "source": [
        "%%HTML\n",
        "<iframe width=\"821\" height=\"462\" src=\"https://www.youtube.com/embed/tdJWsxcjBZs\" frameborder=\"0\" allow=\"accelerometer; autoplay; encrypted-media; gyroscope; picture-in-picture\" allowfullscreen></iframe>"
      ],
      "execution_count": 2,
      "outputs": [
        {
          "output_type": "display_data",
          "data": {
            "text/html": [
              "<iframe width=\"821\" height=\"462\" src=\"https://www.youtube.com/embed/tdJWsxcjBZs\" frameborder=\"0\" allow=\"accelerometer; autoplay; encrypted-media; gyroscope; picture-in-picture\" allowfullscreen></iframe>"
            ],
            "text/plain": [
              "<IPython.core.display.HTML object>"
            ]
          },
          "metadata": {
            "tags": []
          }
        }
      ]
    },
    {
      "cell_type": "markdown",
      "metadata": {
        "id": "TfwfgRIa_JnP",
        "colab_type": "text"
      },
      "source": [
        "# 0. Project description\n",
        "Real or Not? NLP with Disaster Tweets: In this project you are challenged to build a Machine\n",
        "Learning model that can predict which tweets are about a real disaster and which are not. The\n",
        "project topic is based around a Kaggle competition. You can find the link to the competition here.\n",
        "You will find more information about the project and the dataset in the competition page.\n",
        "\n",
        "In this project, you will have the chance to compare your prediction results with your fellows (and\n",
        "also other Kaggle users). Make an account in Kaggle (if you don’t have already) and join the\n",
        "competition. As soon as you make a submission you can see the prediction accuracy and your\n",
        "ranking in the leaderboard. Note that you can only make 5 submissions per day. To know more\n",
        "about the competition rules, check the competition page in Kaggle."
      ]
    },
    {
      "cell_type": "markdown",
      "metadata": {
        "id": "RDLeqmsVjprk",
        "colab_type": "text"
      },
      "source": [
        "**Table of contents**\n",
        "0. Project description\n",
        "\n",
        "1. Packages and libraries installation\n",
        "\n",
        "2. Database\n",
        "\n",
        "  2.1 Data Exploration\n",
        "\n",
        "3. Exploratory data analysis\n",
        "  \n",
        "  3.1 Distribution real and non-real tweets\n",
        "\n",
        "  3.2 Distribution tweet length\n",
        "\n",
        "  3.3 Understanding location\n",
        "\n",
        "  3.3.2 Distribution location \n",
        "\n",
        "  3.3.3 Distribution location for not real disaster\n",
        "\n",
        "  3.3.4 Distribution location for real disaster\n",
        "\n",
        "  3.4 Possible patterns between Real and Not Real tweets\n",
        "\n",
        "  3.4.1 Understanding tweet's patterns by location\n",
        "  \n",
        "  3.5 Distribution keyword (real disaster and not)\n",
        "\n",
        "  3.6 Word Frequency analysis\n",
        "\n",
        "  3.6.1 Wordcloud representation\n",
        "\n",
        "  3.6.2 Frequency of words (ngrams)\n",
        "\n",
        "  3.7 Keywords distribution graph\n",
        "\n",
        "4. Data cleaning\n",
        "\n",
        "  4.1 Working with abbreviations\n",
        "\n",
        "  4.2 Studying the 305 duplicates\n",
        "\n",
        "  4.3 Master data preprocessing function\n",
        "\n",
        "5. Machine Learning\n",
        "\n",
        "  5.1 Logistic Regression Classifier\n",
        "\n",
        "  5.2 K Neighbors Classifier\n",
        "\n",
        "  5.3 Decision Tree Classifier\n",
        "\n",
        "  5.4 Random Forest Classifier\n"
      ]
    },
    {
      "cell_type": "markdown",
      "metadata": {
        "id": "2ipOKQgPrV2z",
        "colab_type": "text"
      },
      "source": [
        "# 1. Packages and libraries installation"
      ]
    },
    {
      "cell_type": "code",
      "metadata": {
        "id": "p_5DNreO_5lG",
        "colab_type": "code",
        "outputId": "164cd43d-7b7f-4b45-c4c5-6acb701471a9",
        "colab": {
          "base_uri": "https://localhost:8080/",
          "height": 121
        }
      },
      "source": [
        "# EDA and data processing\n",
        "import numpy as np\n",
        "import pandas as pd\n",
        "import seaborn as sns\n",
        "import nltk\n",
        "import matplotlib.pyplot as plt\n",
        "import io\n",
        "import string\n",
        "import re\n",
        "import nltk\n",
        "from nltk.corpus import stopwords\n",
        "from nltk.stem import WordNetLemmatizer\n",
        "from nltk.tokenize import WhitespaceTokenizer\n",
        "from wordcloud import WordCloud\n",
        "from nltk.stem.snowball import SnowballStemmer\n",
        "from collections import defaultdict\n",
        "nltk.download('stopwords')\n",
        "nltk.download('wordnet')\n",
        "nltk.download('punkt')\n",
        "\n",
        "# Machine Learning\n",
        "from sklearn.model_selection import train_test_split\n",
        "from yellowbrick.classifier import PrecisionRecallCurve\n",
        "from sklearn.preprocessing import LabelEncoder, OrdinalEncoder\n",
        "from sklearn.metrics import confusion_matrix\n",
        "from sklearn.utils.multiclass import unique_labels\n",
        "from sklearn.feature_extraction.text import CountVectorizer\n",
        "from sklearn.feature_extraction.text import TfidfVectorizer\n",
        "from sklearn.metrics import accuracy_score\n",
        "from sklearn.linear_model import LogisticRegression\n",
        "from sklearn.neighbors import KNeighborsClassifier\n",
        "from sklearn.tree import DecisionTreeClassifier\n",
        "from sklearn.ensemble import RandomForestClassifier\n",
        "from sklearn import svm\n",
        "from yellowbrick.classifier import PrecisionRecallCurve\n",
        "from yellowbrick.draw import manual_legend\n",
        "from sklearn.ensemble import BaggingClassifier\n",
        "from sklearn.ensemble import ExtraTreesClassifier\n",
        "from sklearn import model_selection\n",
        "from sklearn.ensemble import AdaBoostClassifier\n",
        "from sklearn.linear_model import LogisticRegression\n",
        "from sklearn.tree import DecisionTreeClassifier\n",
        "from sklearn.svm import SVC\n",
        "from sklearn.ensemble import VotingClassifier"
      ],
      "execution_count": 0,
      "outputs": [
        {
          "output_type": "stream",
          "text": [
            "[nltk_data] Downloading package stopwords to /root/nltk_data...\n",
            "[nltk_data]   Package stopwords is already up-to-date!\n",
            "[nltk_data] Downloading package wordnet to /root/nltk_data...\n",
            "[nltk_data]   Package wordnet is already up-to-date!\n",
            "[nltk_data] Downloading package punkt to /root/nltk_data...\n",
            "[nltk_data]   Package punkt is already up-to-date!\n"
          ],
          "name": "stdout"
        }
      ]
    },
    {
      "cell_type": "markdown",
      "metadata": {
        "id": "cb_HcQmrAAP7",
        "colab_type": "text"
      },
      "source": [
        "# 2. Database"
      ]
    },
    {
      "cell_type": "code",
      "metadata": {
        "id": "_kSqJm5aDRHV",
        "colab_type": "code",
        "colab": {}
      },
      "source": [
        "# The dataset \n",
        "train = pd.read_csv(\"https://raw.githubusercontent.com/SarahBuechner/BigScale_Disaster_true_or_not/master/data/train.csv\", encoding=\"utf-8\")\n",
        "test = pd.read_csv(\"https://raw.githubusercontent.com/SarahBuechner/BigScale_Disaster_true_or_not/master/data/test.csv\", encoding=\"utf-8\")"
      ],
      "execution_count": 0,
      "outputs": []
    },
    {
      "cell_type": "markdown",
      "metadata": {
        "id": "pld18Q3nKpj_",
        "colab_type": "text"
      },
      "source": [
        "## 2.1 Data Exploration"
      ]
    },
    {
      "cell_type": "markdown",
      "metadata": {
        "id": "oRJvm2pah_kZ",
        "colab_type": "text"
      },
      "source": [
        "Before starting, let's analyze the different types of data contained in our `train` dataset (notice that you find the same in the `test` dataset) \n",
        "\n",
        "**Findings**: We can see that the set of the elements are objects apart from the identifiers which are of the integer type."
      ]
    },
    {
      "cell_type": "code",
      "metadata": {
        "id": "udT4uYprKcqq",
        "colab_type": "code",
        "outputId": "5675323a-45cb-4325-8de1-03ff626e812a",
        "colab": {
          "base_uri": "https://localhost:8080/",
          "height": 121
        }
      },
      "source": [
        "train.dtypes"
      ],
      "execution_count": 0,
      "outputs": [
        {
          "output_type": "execute_result",
          "data": {
            "text/plain": [
              "id           int64\n",
              "keyword     object\n",
              "location    object\n",
              "text        object\n",
              "target       int64\n",
              "dtype: object"
            ]
          },
          "metadata": {
            "tags": []
          },
          "execution_count": 184
        }
      ]
    },
    {
      "cell_type": "markdown",
      "metadata": {
        "id": "E5mWWV7pLJVE",
        "colab_type": "text"
      },
      "source": [
        "**Different possible location**"
      ]
    },
    {
      "cell_type": "code",
      "metadata": {
        "id": "aHI2nq9hLEdO",
        "colab_type": "code",
        "outputId": "696e3056-ddb7-4c4f-90ae-6acf3988e7bb",
        "colab": {
          "base_uri": "https://localhost:8080/",
          "height": 364
        }
      },
      "source": [
        "n = 20 # Select total number of unique locations you want to display\n",
        "locations = train[\"location\"].unique()\n",
        "for location in locations[0:n]:\n",
        "  print(location)"
      ],
      "execution_count": 0,
      "outputs": [
        {
          "output_type": "stream",
          "text": [
            "nan\n",
            "Birmingham\n",
            "Est. September 2012 - Bristol\n",
            "AFRICA\n",
            "Philadelphia, PA\n",
            "London, UK\n",
            "Pretoria\n",
            "World Wide!!\n",
            "Paranaque City\n",
            "Live On Webcam\n",
            "milky way\n",
            "GREENSBORO,NORTH CAROLINA\n",
            "England.\n",
            "Sheffield Township, Ohio\n",
            "India\n",
            "Barbados\n",
            "Anaheim\n",
            "Abuja\n",
            "USA\n",
            "South Africa\n"
          ],
          "name": "stdout"
        }
      ]
    },
    {
      "cell_type": "markdown",
      "metadata": {
        "id": "5-XgOYaKjUG8",
        "colab_type": "text"
      },
      "source": [
        "**Display of the elements that do not constitute a real disaster (target = 0).**"
      ]
    },
    {
      "cell_type": "code",
      "metadata": {
        "id": "5pyqjJTYjS82",
        "colab_type": "code",
        "outputId": "3f445a87-49a6-492e-fdbc-cef24cdf9fd2",
        "colab": {
          "base_uri": "https://localhost:8080/",
          "height": 208
        }
      },
      "source": [
        "target_0 = train[(train['target'] == 0)]  \n",
        "print(target_0.head(10))"
      ],
      "execution_count": 0,
      "outputs": [
        {
          "output_type": "stream",
          "text": [
            "    id keyword location                          text  target\n",
            "15  23     NaN      NaN                What's up man?       0\n",
            "16  24     NaN      NaN                 I love fruits       0\n",
            "17  25     NaN      NaN              Summer is lovely       0\n",
            "18  26     NaN      NaN             My car is so fast       0\n",
            "19  28     NaN      NaN  What a goooooooaaaaaal!!!!!!       0\n",
            "20  31     NaN      NaN        this is ridiculous....       0\n",
            "21  32     NaN      NaN             London is cool ;)       0\n",
            "22  33     NaN      NaN                   Love skiing       0\n",
            "23  34     NaN      NaN         What a wonderful day!       0\n",
            "24  36     NaN      NaN                      LOOOOOOL       0\n"
          ],
          "name": "stdout"
        }
      ]
    },
    {
      "cell_type": "markdown",
      "metadata": {
        "id": "PpU-M5Fhms9Z",
        "colab_type": "text"
      },
      "source": [
        "**Display of the elements that are real and therefore the target at 1**"
      ]
    },
    {
      "cell_type": "code",
      "metadata": {
        "id": "C3WhCi6Nm7Gi",
        "colab_type": "code",
        "outputId": "2c21d1ae-2b1b-4c28-add2-6d44df4cc627",
        "colab": {
          "base_uri": "https://localhost:8080/",
          "height": 242
        }
      },
      "source": [
        "target_1 = train[(train['target'] == 1)]\n",
        "print(target_1.head(10))"
      ],
      "execution_count": 0,
      "outputs": [
        {
          "output_type": "stream",
          "text": [
            "   id keyword  ...                                               text target\n",
            "0   1     NaN  ...  Our Deeds are the Reason of this #earthquake M...      1\n",
            "1   4     NaN  ...             Forest fire near La Ronge Sask. Canada      1\n",
            "2   5     NaN  ...  All residents asked to 'shelter in place' are ...      1\n",
            "3   6     NaN  ...  13,000 people receive #wildfires evacuation or...      1\n",
            "4   7     NaN  ...  Just got sent this photo from Ruby #Alaska as ...      1\n",
            "5   8     NaN  ...  #RockyFire Update => California Hwy. 20 closed...      1\n",
            "6  10     NaN  ...  #flood #disaster Heavy rain causes flash flood...      1\n",
            "7  13     NaN  ...  I'm on top of the hill and I can see a fire in...      1\n",
            "8  14     NaN  ...  There's an emergency evacuation happening now ...      1\n",
            "9  15     NaN  ...  I'm afraid that the tornado is coming to our a...      1\n",
            "\n",
            "[10 rows x 5 columns]\n"
          ],
          "name": "stdout"
        }
      ]
    },
    {
      "cell_type": "markdown",
      "metadata": {
        "id": "IdK3rvQ0nw3T",
        "colab_type": "text"
      },
      "source": [
        "# 3. Exploratory data analysis\n",
        "## 3.1 Distribution real and non-real tweets\n",
        "\n",
        "Display of the distribution between the real and non-real tweets. \n",
        "\n",
        "**Findings:** We can see that there are a bit more non-real cases but the sample is quite balanced, so there is no need to up-sampled the minority class."
      ]
    },
    {
      "cell_type": "code",
      "metadata": {
        "id": "lSsb6RjPnTUi",
        "colab_type": "code",
        "outputId": "8d49bff0-6a3c-45bc-9d08-e8d839d0c026",
        "colab": {
          "base_uri": "https://localhost:8080/",
          "height": 364
        }
      },
      "source": [
        "a = train.target.value_counts()\n",
        "sns.barplot(a.index,a)"
      ],
      "execution_count": 0,
      "outputs": [
        {
          "output_type": "execute_result",
          "data": {
            "text/plain": [
              "<matplotlib.axes._subplots.AxesSubplot at 0x7fca7bcb3588>"
            ]
          },
          "metadata": {
            "tags": []
          },
          "execution_count": 188
        },
        {
          "output_type": "display_data",
          "data": {
            "image/png": "[encoded data removed]",
            "text/plain": [
              "<Figure size 576x396 with 1 Axes>"
            ]
          },
          "metadata": {
            "tags": []
          }
        }
      ]
    },
    {
      "cell_type": "markdown",
      "metadata": {
        "id": "MnDvEq4GpI1H",
        "colab_type": "text"
      },
      "source": [
        "## 3.2 Distribution tweet length\n",
        "In order to get a better idea of the elements that differentiate the tweets from a disaster and those that are not, we will analyze the structure of each tweet. For example, here we can see the distribution of the number of words in each case. There is no significant difference between the two cases.\n",
        "\n",
        "**Findings:** There is no difference based on the total number of words contained in a tweet from real and not real disaster. "
      ]
    },
    {
      "cell_type": "code",
      "metadata": {
        "id": "L3fb0WmkpJC5",
        "colab_type": "code",
        "outputId": "479750b3-ae8d-4f66-c9f9-56293d151f3f",
        "colab": {
          "base_uri": "https://localhost:8080/",
          "height": 385
        }
      },
      "source": [
        "fig,(axR,axN)=plt.subplots(1,2)\n",
        "train_len=train[train['target']==1]['text'].str.split().map(lambda x: len(x))\n",
        "axR.hist(train_len)\n",
        "axR.set_title('Real disaster')\n",
        "\n",
        "train_len=train[train['target']==0]['text'].str.split().map(lambda x: len(x))\n",
        "axN.hist(train_len)\n",
        "axN.set_title('Not real disaster')\n",
        "\n",
        "fig.suptitle('Distribution of the number of words in a tweet')\n",
        "plt.show()"
      ],
      "execution_count": 0,
      "outputs": [
        {
          "output_type": "display_data",
          "data": {
            "image/png": "[encoded data removed]",
            "text/plain": [
              "<Figure size 576x396 with 2 Axes>"
            ]
          },
          "metadata": {
            "tags": []
          }
        }
      ]
    },
    {
      "cell_type": "markdown",
      "metadata": {
        "id": "nAHIWtJEoF8U",
        "colab_type": "text"
      },
      "source": [
        "## 3.3 Understanding location\n",
        "### 3.3.1 Distribution location (not real disaster)\n",
        "\n",
        "**Display** of the different locations with the corresponding number of tweets for **No real disaster**"
      ]
    },
    {
      "cell_type": "code",
      "metadata": {
        "id": "HHNdeM6XoBJ7",
        "colab_type": "code",
        "outputId": "1a521c4a-f356-4250-f47f-fca646a0c9ce",
        "colab": {
          "base_uri": "https://localhost:8080/",
          "height": 381
        }
      },
      "source": [
        "target_0['location'].value_counts().head(n=20)"
      ],
      "execution_count": 0,
      "outputs": [
        {
          "output_type": "execute_result",
          "data": {
            "text/plain": [
              "New York           55\n",
              "USA                37\n",
              "London             29\n",
              "United States      23\n",
              "Los Angeles, CA    18\n",
              "Canada             16\n",
              "Kenya              15\n",
              "Everywhere         12\n",
              "Florida            11\n",
              "UK                 11\n",
              "United Kingdom     10\n",
              "California         10\n",
              "NYC                10\n",
              "Australia           9\n",
              "Chicago, IL         9\n",
              "London, England     9\n",
              "304                 9\n",
              "ss                  9\n",
              "San Francisco       8\n",
              "New York, NY        8\n",
              "Name: location, dtype: int64"
            ]
          },
          "metadata": {
            "tags": []
          },
          "execution_count": 190
        }
      ]
    },
    {
      "cell_type": "markdown",
      "metadata": {
        "id": "pLRVESD7plFL",
        "colab_type": "text"
      },
      "source": [
        ""
      ]
    },
    {
      "cell_type": "markdown",
      "metadata": {
        "id": "tWUshusr-ubK",
        "colab_type": "text"
      },
      "source": [
        "### 3.3.2 Distribution location"
      ]
    },
    {
      "cell_type": "code",
      "metadata": {
        "id": "vfio4Qxg61R8",
        "colab_type": "code",
        "colab": {}
      },
      "source": [
        "\"\"\"\n",
        "Function traceBarplot which trace barplot \n",
        "Parameters:\n",
        "  n: number of locations you want to display\n",
        "  title: title of your barplot\n",
        "\"\"\"  \n",
        "\n",
        "def traceBarplot(n, title):\n",
        "  location_count  = train['location'].value_counts()[:n,]\n",
        "  plt.figure(figsize=(10,5))\n",
        "\n",
        "  sns.barplot(location_count.index, location_count.values,palette=\"ch:.25\", alpha=0.8)\n",
        "  plt.title('Tweet release top ' + str(n) + ' locations')\n",
        "  plt.ylabel('Number of Occurrences', fontsize=12)\n",
        "  plt.xlabel('Location', fontsize=12)\n",
        "  plt.xticks(rotation=45)\n",
        "  plt.show()"
      ],
      "execution_count": 0,
      "outputs": []
    },
    {
      "cell_type": "code",
      "metadata": {
        "id": "MSp1bOjJ-PJZ",
        "colab_type": "code",
        "outputId": "37533f37-7dfd-4ed8-a739-eb9ed829388b",
        "colab": {
          "base_uri": "https://localhost:8080/",
          "height": 400
        }
      },
      "source": [
        "# Tweet location for real and not real disasters\n",
        "n = 10 \n",
        "title = 'Tweet release top ' + str(n) + ' locations'\n",
        "traceBarplot(n,title)"
      ],
      "execution_count": 0,
      "outputs": [
        {
          "output_type": "display_data",
          "data": {
            "image/png": "[encoded data removed]",
            "text/plain": [
              "<Figure size 720x360 with 1 Axes>"
            ]
          },
          "metadata": {
            "tags": []
          }
        }
      ]
    },
    {
      "cell_type": "markdown",
      "metadata": {
        "id": "XJKWq2bP_HKV",
        "colab_type": "text"
      },
      "source": [
        "### 3.3.3 Distribution location for not real disasters"
      ]
    },
    {
      "cell_type": "code",
      "metadata": {
        "id": "sQdHJAD4-07J",
        "colab_type": "code",
        "outputId": "bd08777e-0d92-4d86-829d-4b7abee337dc",
        "colab": {
          "base_uri": "https://localhost:8080/",
          "height": 400
        }
      },
      "source": [
        "# Tweet location for not real disasters\n",
        "n = 10 \n",
        "title = 'Tweet release top ' + str(n) + ' locations for not real disasters'\n",
        "traceBarplot(n,title)"
      ],
      "execution_count": 0,
      "outputs": [
        {
          "output_type": "display_data",
          "data": {
            "image/png": "[encoded data removed]",
            "text/plain": [
              "<Figure size 720x360 with 1 Axes>"
            ]
          },
          "metadata": {
            "tags": []
          }
        }
      ]
    },
    {
      "cell_type": "markdown",
      "metadata": {
        "id": "6qHmxU0j_PPJ",
        "colab_type": "text"
      },
      "source": [
        "### 3.3.4 Distribution location for real disasters"
      ]
    },
    {
      "cell_type": "code",
      "metadata": {
        "id": "DI2-K5DwpsuO",
        "colab_type": "code",
        "outputId": "cc388aac-9c46-451e-cd83-af5225de0bfb",
        "colab": {
          "base_uri": "https://localhost:8080/",
          "height": 400
        }
      },
      "source": [
        "# Tweet location for real disasters\n",
        "n = 10 # select total number of locations you want to display\n",
        "title = 'Tweet release top ' + str(n) + ' locations for real disasters'\n",
        "traceBarplot(n,title)"
      ],
      "execution_count": 0,
      "outputs": [
        {
          "output_type": "display_data",
          "data": {
            "image/png": "[encoded data removed]",
            "text/plain": [
              "<Figure size 720x360 with 1 Axes>"
            ]
          },
          "metadata": {
            "tags": []
          }
        }
      ]
    },
    {
      "cell_type": "markdown",
      "metadata": {
        "id": "7PfUfugKqeQT",
        "colab_type": "text"
      },
      "source": [
        "**Findings**: It seems that location does not affect whether the tweet was about a real disaster or not"
      ]
    },
    {
      "cell_type": "markdown",
      "metadata": {
        "id": "YDClRjgpsdVq",
        "colab_type": "text"
      },
      "source": [
        "## 3.4 Possible patterns between Real and Not Real tweets\n",
        "### 3.4.1 Understanding tweet's patterns by location\n",
        "Once we saw that location seems not to be relevant to classify the tweet what we are now wondering if tweets \n",
        "from a given location follow any write common patern\n",
        "\n",
        "**Findings**:\n",
        "- If the tweet is repeated more than once it's more probably to be a tweet for a not real disaster ?\n",
        "- In general, tweets of not real disasters tends have more grammar errors as well as invented words rather than those about real disasters."
      ]
    },
    {
      "cell_type": "code",
      "metadata": {
        "id": "T_LHO6kaq65H",
        "colab_type": "code",
        "outputId": "8402a7f9-5a2d-49ef-bb6a-c1d8b1f55f67",
        "colab": {
          "base_uri": "https://localhost:8080/",
          "height": 225
        }
      },
      "source": [
        "# Tweets of not real disasters in USA\n",
        "n = 10 # specify here how many tweets you want to display\n",
        "location = \"USA\" # specify here how many tweets you want to display\n",
        "\n",
        "train_0_USA = train[(train['location'] == location) & (train['target'] == 0)]\n",
        "for tweet in train_0_USA[\"text\"][0:n]:\n",
        "  print(tweet)"
      ],
      "execution_count": 0,
      "outputs": [
        {
          "output_type": "stream",
          "text": [
            "One thing for sure-God has promised Israel will not be annihilated. But...the horror of Iran w/nukes. https://t.co/xn09Mx6sxy\n",
            "YOUR PHONE IS SPYING ON YOU! Hidden Back Door NSA Data Mining Software | THE FINANCIAL ARMAGEDDON BLOG http://t.co/qyCw5JJaj1\n",
            "Black Eye 9: A space battle occurred at Star O784 involving 2 fleets totaling 4103 ships with 50 destroyed\n",
            "City program to help turn blight into greenspace: The Tennessee Housing DevelopmentÛ_ http://t.co/ZZcbBQyJ1q  #news http://t.co/KKSgHsblFH\n",
            "@troylercraft YEAH ITS NOT WORTH IT BC HE ALREADY HAS SO MANY SPAMMERS &amp; HIS TWITTER IS PROBABLY BLOWN UP EVERY SECOND\n",
            "@sholt87 @MtGrotto @Eco11C @carlsbadbugkil1 Saved us?Bush lowered tax rate for wealthy n economy collapsed w/Middle Class 401ks destroyed.\n",
            "Petition | Heartless owner that whipped horse until it collapsed is told he can KEEP his animal! Act Now! http://t.co/nJRjxqBjr4\n",
            "When high fashion and food collide: Gucci has chosen one of ShanghaiÛªs most popular commercial avenue... http://t.co/MkRxQZeHmY #fashion\n",
            "#Camera #Art #Photography http://t.co/TJGxDc3D5p #0215 New BoltåÊCyclone DR PP-400DR Dual Outlet Power PackåÊFor External Camera Flash\n",
            "\n",
            "$30Û_\n",
            "I had no issues uploading DEATH TO SMOOCHY or AWAKENINGS clips to @YouTube but for some reason BICENTENNIAL MAN is being a pain in the ass.\n"
          ],
          "name": "stdout"
        }
      ]
    },
    {
      "cell_type": "code",
      "metadata": {
        "id": "2JWHKVRduYRY",
        "colab_type": "code",
        "outputId": "3b36e1a1-9269-4fc7-dfbf-6111bceb440d",
        "colab": {
          "base_uri": "https://localhost:8080/",
          "height": 190
        }
      },
      "source": [
        "# Tweets of real disasters in USA\n",
        "train_1_USA = train[(train['location'] == location) & (train['target'] == 1)]\n",
        "for tweet in train_1_USA[\"text\"][0:n]:\n",
        "  print(tweet)"
      ],
      "execution_count": 0,
      "outputs": [
        {
          "output_type": "stream",
          "text": [
            "#Kurds trampling on Turkmen flag later set it ablaze while others vandalized offices of Turkmen Front in #Diyala http://t.co/4IzFdYC3cg\n",
            "Twelve feared killed in Pakistani air ambulance helicopter crash http://t.co/TH9YwBbeet #worldNews\n",
            "Thousands attend a rally organized by Peace Now protesting the arson attack that took the life of an http://t.co/bvCKd9pdTi\n",
            "Palestinian Teen Killed Amid Protests Against Arson Attack http://t.co/okVsImoGic\n",
            "Christian Attacked by Muslims at the Temple Mount after Waving Israeli Flag via Pamela Geller - ... http://t.co/a6wmbnR51S\n",
            "Black Eye 9: A space battle occurred at Star M27329 involving 1 fleets totaling 1236 ships with 7 destroyed\n",
            "#News FedEx no longer to transport bioterror germs in wake of anthrax lab mishaps (say what?): åÊFedEx no... http://t.co/K0Y7xFxmXA #TCOT\n",
            "'American Weapons and Support Are Fueling a Bloody Air War in Yemen' http://t.co/7aGeAkVn2x\n",
            "Another day has passed and THANKFULLY Central Command has CONFIRMED NO new casualties. Please pray for those in... http://t.co/mFSw0tYstA\n",
            "#BBSNews latest 4 #Palestine &amp; #Israel -  Six Palestinians Kidnapped in West Bank Hebron Home Demolished http://t.co/gne1fW0XHE\n"
          ],
          "name": "stdout"
        }
      ]
    },
    {
      "cell_type": "markdown",
      "metadata": {
        "id": "-Gfna0Tz36TB",
        "colab_type": "text"
      },
      "source": [
        "## 3.5 Distribution keyword (real disaster and not)\n",
        "**Display of the keywords for Real disaster**"
      ]
    },
    {
      "cell_type": "code",
      "metadata": {
        "id": "DSK45B5uohXM",
        "colab_type": "code",
        "outputId": "c3f00977-e3e0-483a-8520-a38e4df9611e",
        "colab": {
          "base_uri": "https://localhost:8080/",
          "height": 381
        }
      },
      "source": [
        "target_1['keyword'].value_counts().head(n=20)"
      ],
      "execution_count": 0,
      "outputs": [
        {
          "output_type": "execute_result",
          "data": {
            "text/plain": [
              "outbreak               39\n",
              "wreckage               39\n",
              "derailment             39\n",
              "oil%20spill            37\n",
              "typhoon                37\n",
              "debris                 37\n",
              "suicide%20bombing      32\n",
              "evacuated              32\n",
              "suicide%20bomb         32\n",
              "rescuers               32\n",
              "razed                  31\n",
              "nuclear%20disaster     31\n",
              "earthquake             30\n",
              "airplane%20accident    30\n",
              "suicide%20bomber       30\n",
              "wildfire               29\n",
              "bridge%20collapse      29\n",
              "collision              29\n",
              "mass%20murder          28\n",
              "casualties             28\n",
              "Name: keyword, dtype: int64"
            ]
          },
          "metadata": {
            "tags": []
          },
          "execution_count": 197
        }
      ]
    },
    {
      "cell_type": "markdown",
      "metadata": {
        "id": "UHfvNHtxoj5C",
        "colab_type": "text"
      },
      "source": [
        "**Display the keywords for No Real disaster**"
      ]
    },
    {
      "cell_type": "code",
      "metadata": {
        "id": "-vUeO65DpGFH",
        "colab_type": "code",
        "outputId": "423749af-c3de-4b41-d085-b105a0b156ad",
        "colab": {
          "base_uri": "https://localhost:8080/",
          "height": 381
        }
      },
      "source": [
        "target_0['keyword'].value_counts().head(n=20)"
      ],
      "execution_count": 0,
      "outputs": [
        {
          "output_type": "execute_result",
          "data": {
            "text/plain": [
              "body%20bags    40\n",
              "armageddon     37\n",
              "harm           37\n",
              "ruin           36\n",
              "wrecked        36\n",
              "deluge         36\n",
              "twister        35\n",
              "siren          35\n",
              "explode        35\n",
              "fear           35\n",
              "screaming      34\n",
              "aftershock     34\n",
              "panic          34\n",
              "crush          33\n",
              "blazing        33\n",
              "sinking        33\n",
              "blaze          33\n",
              "blizzard       33\n",
              "traumatised    33\n",
              "body%20bag     32\n",
              "Name: keyword, dtype: int64"
            ]
          },
          "metadata": {
            "tags": []
          },
          "execution_count": 198
        }
      ]
    },
    {
      "cell_type": "markdown",
      "metadata": {
        "id": "CG_SY5YwS9le",
        "colab_type": "text"
      },
      "source": [
        "## 3.6 Word Frequency analysis\n",
        "### 3.6.1 Wordcloud representation\n",
        "**Worldcloud of disaster**"
      ]
    },
    {
      "cell_type": "code",
      "metadata": {
        "id": "4janq4742vfq",
        "colab_type": "code",
        "colab": {}
      },
      "source": [
        "\"\"\"\n",
        "Function worcloud which draw barplot \n",
        "Parameters:\n",
        "  target: target that you want to draw if disaster or not\n",
        "\"\"\"  \n",
        "def wordcloud(target):\n",
        "  dis_words = ' '.join(target)\n",
        "  dis_wc = WordCloud(width = 512,height = 512).generate(dis_words)\n",
        "  plt.imshow(dis_wc)\n",
        "  plt.axis('off')\n",
        "  plt.show()"
      ],
      "execution_count": 0,
      "outputs": []
    },
    {
      "cell_type": "code",
      "metadata": {
        "id": "iE6ZtJMRSIRN",
        "colab_type": "code",
        "outputId": "64317789-9855-4d3b-b648-f7ec5b0a0974",
        "colab": {
          "base_uri": "https://localhost:8080/",
          "height": 329
        }
      },
      "source": [
        "wordcloud(train[train['target'] == 1]['text'])"
      ],
      "execution_count": 0,
      "outputs": [
        {
          "output_type": "display_data",
          "data": {
            "image/png": "[encoded data removed]",
            "text/plain": [
              "<Figure size 576x396 with 1 Axes>"
            ]
          },
          "metadata": {
            "tags": []
          }
        }
      ]
    },
    {
      "cell_type": "markdown",
      "metadata": {
        "id": "uJS-ei_5Q0N_",
        "colab_type": "text"
      },
      "source": [
        "**Wodcloud of no-disaster tweets**"
      ]
    },
    {
      "cell_type": "code",
      "metadata": {
        "id": "9rCZj63FTJLo",
        "colab_type": "code",
        "outputId": "cfcbd28e-ebc1-411a-ac08-d7d1ec414745",
        "colab": {
          "base_uri": "https://localhost:8080/",
          "height": 364
        }
      },
      "source": [
        "wordcloud(target_1[train['target'] == 1]['text'])"
      ],
      "execution_count": 0,
      "outputs": [
        {
          "output_type": "stream",
          "text": [
            "/usr/local/lib/python3.6/dist-packages/ipykernel_launcher.py:1: UserWarning: Boolean Series key will be reindexed to match DataFrame index.\n",
            "  \"\"\"Entry point for launching an IPython kernel.\n"
          ],
          "name": "stderr"
        },
        {
          "output_type": "display_data",
          "data": {
            "image/png": "[encoded data removed]",
            "text/plain": [
              "<Figure size 576x396 with 1 Axes>"
            ]
          },
          "metadata": {
            "tags": []
          }
        }
      ]
    },
    {
      "cell_type": "markdown",
      "metadata": {
        "id": "yw8KprIn1M84",
        "colab_type": "text"
      },
      "source": [
        "### 3.6.2 Frequency of words (ngrams)\n",
        "\n",
        "**For real disasters**\n",
        "\n",
        "\n",
        "\n"
      ]
    },
    {
      "cell_type": "markdown",
      "metadata": {
        "id": "Z_3KFEN91npU",
        "colab_type": "text"
      },
      "source": [
        "This analysis allows to list the most recurring words in the text of the different tweet. We first list for real cases and then for cases that concern a disaster.\n",
        "Here is a list of the words that are most present in a real case of disaster."
      ]
    },
    {
      "cell_type": "code",
      "metadata": {
        "id": "QuFcgCvj1MNw",
        "colab_type": "code",
        "colab": {}
      },
      "source": [
        "text_list=train[train['target']==1]['text']\n",
        "word_freq = defaultdict(int)\n",
        "\n",
        "for text in text_list:\n",
        "    for word in text.split():\n",
        "        word_freq[word] += 1\n",
        "\n",
        "word_freq_dis = pd.DataFrame.from_dict(word_freq, orient='index') \\\n",
        ".sort_values(0, ascending=False) \\\n",
        ".rename(columns={0: 'abs_freq'})"
      ],
      "execution_count": 0,
      "outputs": []
    },
    {
      "cell_type": "code",
      "metadata": {
        "id": "MZamwZI_1sSt",
        "colab_type": "code",
        "outputId": "728fa01b-04c2-4b18-cf6e-456a115fbb6c",
        "colab": {
          "base_uri": "https://localhost:8080/",
          "height": 424
        }
      },
      "source": [
        "#Select + Display the words that the freqeunce is higer than n\n",
        "n= 30\n",
        "word_freq_dis = word_freq_dis[word_freq_dis['abs_freq']>n]\n",
        "word_freq_dis"
      ],
      "execution_count": 0,
      "outputs": [
        {
          "output_type": "execute_result",
          "data": {
            "text/html": [
              "<div>\n",
              "<style scoped>\n",
              "    .dataframe tbody tr th:only-of-type {\n",
              "        vertical-align: middle;\n",
              "    }\n",
              "\n",
              "    .dataframe tbody tr th {\n",
              "        vertical-align: top;\n",
              "    }\n",
              "\n",
              "    .dataframe thead th {\n",
              "        text-align: right;\n",
              "    }\n",
              "</style>\n",
              "<table border=\"1\" class=\"dataframe\">\n",
              "  <thead>\n",
              "    <tr style=\"text-align: right;\">\n",
              "      <th></th>\n",
              "      <th>abs_freq</th>\n",
              "    </tr>\n",
              "  </thead>\n",
              "  <tbody>\n",
              "    <tr>\n",
              "      <th>the</th>\n",
              "      <td>1051</td>\n",
              "    </tr>\n",
              "    <tr>\n",
              "      <th>in</th>\n",
              "      <td>1037</td>\n",
              "    </tr>\n",
              "    <tr>\n",
              "      <th>of</th>\n",
              "      <td>888</td>\n",
              "    </tr>\n",
              "    <tr>\n",
              "      <th>a</th>\n",
              "      <td>730</td>\n",
              "    </tr>\n",
              "    <tr>\n",
              "      <th>to</th>\n",
              "      <td>706</td>\n",
              "    </tr>\n",
              "    <tr>\n",
              "      <th>...</th>\n",
              "      <td>...</td>\n",
              "    </tr>\n",
              "    <tr>\n",
              "      <th>Suicide</th>\n",
              "      <td>31</td>\n",
              "    </tr>\n",
              "    <tr>\n",
              "      <th>emergency</th>\n",
              "      <td>31</td>\n",
              "    </tr>\n",
              "    <tr>\n",
              "      <th>Legionnaires'</th>\n",
              "      <td>31</td>\n",
              "    </tr>\n",
              "    <tr>\n",
              "      <th>detonated</th>\n",
              "      <td>31</td>\n",
              "    </tr>\n",
              "    <tr>\n",
              "      <th>#News</th>\n",
              "      <td>31</td>\n",
              "    </tr>\n",
              "  </tbody>\n",
              "</table>\n",
              "<p>153 rows × 1 columns</p>\n",
              "</div>"
            ],
            "text/plain": [
              "               abs_freq\n",
              "the                1051\n",
              "in                 1037\n",
              "of                  888\n",
              "a                   730\n",
              "to                  706\n",
              "...                 ...\n",
              "Suicide              31\n",
              "emergency            31\n",
              "Legionnaires'        31\n",
              "detonated            31\n",
              "#News                31\n",
              "\n",
              "[153 rows x 1 columns]"
            ]
          },
          "metadata": {
            "tags": []
          },
          "execution_count": 203
        }
      ]
    },
    {
      "cell_type": "code",
      "metadata": {
        "id": "Mt4ge0qw1udt",
        "colab_type": "code",
        "colab": {}
      },
      "source": [
        "#Select only words\n",
        "word_freq_t1 = word_freq_dis.index.to_list()"
      ],
      "execution_count": 0,
      "outputs": []
    },
    {
      "cell_type": "markdown",
      "metadata": {
        "id": "yp_-DA8V1_3L",
        "colab_type": "text"
      },
      "source": [
        "**For not real disasters**\n",
        "\n",
        "Here is a list of the words that are the most present in a case not concerning a disaster"
      ]
    },
    {
      "cell_type": "code",
      "metadata": {
        "id": "InZ5GP162EjC",
        "colab_type": "code",
        "colab": {}
      },
      "source": [
        "text_list=train[train['target']==0]['text']\n",
        "word_freq = defaultdict(int)\n",
        "\n",
        "for text in text_list:\n",
        "    for word in text.split():\n",
        "        word_freq[word] += 1\n",
        "\n",
        "word_freq_nodis = pd.DataFrame.from_dict(word_freq, orient='index') \\\n",
        ".sort_values(0, ascending=False) \\\n",
        ".rename(columns={0: 'abs_freq'})"
      ],
      "execution_count": 0,
      "outputs": []
    },
    {
      "cell_type": "code",
      "metadata": {
        "id": "XiXC0VLK2JPX",
        "colab_type": "code",
        "outputId": "09b92ca5-3bee-448f-aab6-055ae52ad5ac",
        "colab": {
          "base_uri": "https://localhost:8080/",
          "height": 424
        }
      },
      "source": [
        "#Select + Display the words that the freqeunce is higer than n\n",
        "n= 10\n",
        "word_freq_nodis = word_freq_nodis[word_freq_nodis['abs_freq']>n]\n",
        "word_freq_nodis"
      ],
      "execution_count": 0,
      "outputs": [
        {
          "output_type": "execute_result",
          "data": {
            "text/html": [
              "<div>\n",
              "<style scoped>\n",
              "    .dataframe tbody tr th:only-of-type {\n",
              "        vertical-align: middle;\n",
              "    }\n",
              "\n",
              "    .dataframe tbody tr th {\n",
              "        vertical-align: top;\n",
              "    }\n",
              "\n",
              "    .dataframe thead th {\n",
              "        text-align: right;\n",
              "    }\n",
              "</style>\n",
              "<table border=\"1\" class=\"dataframe\">\n",
              "  <thead>\n",
              "    <tr style=\"text-align: right;\">\n",
              "      <th></th>\n",
              "      <th>abs_freq</th>\n",
              "    </tr>\n",
              "  </thead>\n",
              "  <tbody>\n",
              "    <tr>\n",
              "      <th>the</th>\n",
              "      <td>1524</td>\n",
              "    </tr>\n",
              "    <tr>\n",
              "      <th>a</th>\n",
              "      <td>1115</td>\n",
              "    </tr>\n",
              "    <tr>\n",
              "      <th>to</th>\n",
              "      <td>1099</td>\n",
              "    </tr>\n",
              "    <tr>\n",
              "      <th>I</th>\n",
              "      <td>938</td>\n",
              "    </tr>\n",
              "    <tr>\n",
              "      <th>and</th>\n",
              "      <td>840</td>\n",
              "    </tr>\n",
              "    <tr>\n",
              "      <th>...</th>\n",
              "      <td>...</td>\n",
              "    </tr>\n",
              "    <tr>\n",
              "      <th>entire</th>\n",
              "      <td>11</td>\n",
              "    </tr>\n",
              "    <tr>\n",
              "      <th>bag</th>\n",
              "      <td>11</td>\n",
              "    </tr>\n",
              "    <tr>\n",
              "      <th>U</th>\n",
              "      <td>11</td>\n",
              "    </tr>\n",
              "    <tr>\n",
              "      <th>you.</th>\n",
              "      <td>11</td>\n",
              "    </tr>\n",
              "    <tr>\n",
              "      <th>soul</th>\n",
              "      <td>11</td>\n",
              "    </tr>\n",
              "  </tbody>\n",
              "</table>\n",
              "<p>735 rows × 1 columns</p>\n",
              "</div>"
            ],
            "text/plain": [
              "        abs_freq\n",
              "the         1524\n",
              "a           1115\n",
              "to          1099\n",
              "I            938\n",
              "and          840\n",
              "...          ...\n",
              "entire        11\n",
              "bag           11\n",
              "U             11\n",
              "you.          11\n",
              "soul          11\n",
              "\n",
              "[735 rows x 1 columns]"
            ]
          },
          "metadata": {
            "tags": []
          },
          "execution_count": 206
        }
      ]
    },
    {
      "cell_type": "code",
      "metadata": {
        "id": "1AHMO6vK2RTt",
        "colab_type": "code",
        "colab": {}
      },
      "source": [
        "#Select only words\n",
        "word_freq_t0 = word_freq_nodis.index.to_list()"
      ],
      "execution_count": 0,
      "outputs": []
    },
    {
      "cell_type": "markdown",
      "metadata": {
        "id": "tgu0wg1e2Xgw",
        "colab_type": "text"
      },
      "source": [
        "In order to obtain an efficient list of disasters, we have established two lists (one real disaster and one not). Then we subtracted the list of cases we were not interested in in order to have a final list."
      ]
    },
    {
      "cell_type": "code",
      "metadata": {
        "id": "AyoBHQXO2XtE",
        "colab_type": "code",
        "colab": {}
      },
      "source": [
        "#Remove the word that appears in both list & keep the real cases\n",
        "lst_disaster = list(set(word_freq_t1) - set(word_freq_t0))\n"
      ],
      "execution_count": 0,
      "outputs": []
    },
    {
      "cell_type": "markdown",
      "metadata": {
        "id": "X2gKbCWqwOEP",
        "colab_type": "text"
      },
      "source": [
        "# 4. Data Cleaning"
      ]
    },
    {
      "cell_type": "markdown",
      "metadata": {
        "id": "FBmyIQvYKyL0",
        "colab_type": "text"
      },
      "source": [
        "## 4.1 Working with abbreviations \n",
        "Commonly, informal language contains **`abbrevations`**. We considered relevant to substitute those abbreviations for the real meaning. The idea is to try not lose any hide information behind this abbreviations, especially when applying ngrams method."
      ]
    },
    {
      "cell_type": "code",
      "metadata": {
        "id": "oUbQeF8So8JR",
        "colab_type": "code",
        "colab": {}
      },
      "source": [
        "# Thanks to https://www.kaggle.com/rftexas/text-only-kfold-bert\n",
        "abbreviations = {\n",
        "    \"$\" : \" dollar \",\n",
        "    \"€\" : \" euro \",\n",
        "    \"4ao\" : \"for adults only\",\n",
        "    \"a.m\" : \"before midday\",\n",
        "    \"a3\" : \"anytime anywhere anyplace\",\n",
        "    \"aamof\" : \"as a matter of fact\",\n",
        "    \"acct\" : \"account\",\n",
        "    \"adih\" : \"another day in hell\",\n",
        "    \"afaic\" : \"as far as i am concerned\",\n",
        "    \"afaict\" : \"as far as i can tell\",\n",
        "    \"afaik\" : \"as far as i know\",\n",
        "    \"afair\" : \"as far as i remember\",\n",
        "    \"afk\" : \"away from keyboard\",\n",
        "    \"app\" : \"application\",\n",
        "    \"approx\" : \"approximately\",\n",
        "    \"apps\" : \"applications\",\n",
        "    \"asap\" : \"as soon as possible\",\n",
        "    \"asl\" : \"age, sex, location\",\n",
        "    \"atk\" : \"at the keyboard\",\n",
        "    \"ave.\" : \"avenue\",\n",
        "    \"aymm\" : \"are you my mother\",\n",
        "    \"ayor\" : \"at your own risk\", \n",
        "    \"b&b\" : \"bed and breakfast\",\n",
        "    \"b+b\" : \"bed and breakfast\",\n",
        "    \"b.c\" : \"before christ\",\n",
        "    \"b2b\" : \"business to business\",\n",
        "    \"b2c\" : \"business to customer\",\n",
        "    \"b4\" : \"before\",\n",
        "    \"b4n\" : \"bye for now\",\n",
        "    \"b@u\" : \"back at you\",\n",
        "    \"bae\" : \"before anyone else\",\n",
        "    \"bak\" : \"back at keyboard\",\n",
        "    \"bbbg\" : \"bye bye be good\",\n",
        "    \"bbc\" : \"british broadcasting corporation\",\n",
        "    \"bbias\" : \"be back in a second\",\n",
        "    \"bbl\" : \"be back later\",\n",
        "    \"bbs\" : \"be back soon\",\n",
        "    \"be4\" : \"before\",\n",
        "    \"bfn\" : \"bye for now\",\n",
        "    \"blvd\" : \"boulevard\",\n",
        "    \"bout\" : \"about\",\n",
        "    \"brb\" : \"be right back\",\n",
        "    \"bros\" : \"brothers\",\n",
        "    \"brt\" : \"be right there\",\n",
        "    \"bsaaw\" : \"big smile and a wink\",\n",
        "    \"btw\" : \"by the way\",\n",
        "    \"bwl\" : \"bursting with laughter\",\n",
        "    \"c/o\" : \"care of\",\n",
        "    \"cet\" : \"central european time\",\n",
        "    \"cf\" : \"compare\",\n",
        "    \"cia\" : \"central intelligence agency\",\n",
        "    \"csl\" : \"can not stop laughing\",\n",
        "    \"cu\" : \"see you\",\n",
        "    \"cul8r\" : \"see you later\",\n",
        "    \"cv\" : \"curriculum vitae\",\n",
        "    \"cwot\" : \"complete waste of time\",\n",
        "    \"cya\" : \"see you\",\n",
        "    \"cyt\" : \"see you tomorrow\",\n",
        "    \"dae\" : \"does anyone else\",\n",
        "    \"dbmib\" : \"do not bother me i am busy\",\n",
        "    \"diy\" : \"do it yourself\",\n",
        "    \"dm\" : \"direct message\",\n",
        "    \"dwh\" : \"during work hours\",\n",
        "    \"e123\" : \"easy as one two three\",\n",
        "    \"eet\" : \"eastern european time\",\n",
        "    \"eg\" : \"example\",\n",
        "    \"embm\" : \"early morning business meeting\",\n",
        "    \"encl\" : \"enclosed\",\n",
        "    \"encl.\" : \"enclosed\",\n",
        "    \"etc\" : \"and so on\",\n",
        "    \"faq\" : \"frequently asked questions\",\n",
        "    \"fawc\" : \"for anyone who cares\",\n",
        "    \"fb\" : \"facebook\",\n",
        "    \"fc\" : \"fingers crossed\",\n",
        "    \"fig\" : \"figure\",\n",
        "    \"fimh\" : \"forever in my heart\", \n",
        "    \"ft.\" : \"feet\",\n",
        "    \"ft\" : \"featuring\",\n",
        "    \"ftl\" : \"for the loss\",\n",
        "    \"ftw\" : \"for the win\",\n",
        "    \"fwiw\" : \"for what it is worth\",\n",
        "    \"fyi\" : \"for your information\",\n",
        "    \"g9\" : \"genius\",\n",
        "    \"gahoy\" : \"get a hold of yourself\",\n",
        "    \"gal\" : \"get a life\",\n",
        "    \"gcse\" : \"general certificate of secondary education\",\n",
        "    \"gfn\" : \"gone for now\",\n",
        "    \"gg\" : \"good game\",\n",
        "    \"gl\" : \"good luck\",\n",
        "    \"glhf\" : \"good luck have fun\",\n",
        "    \"gmt\" : \"greenwich mean time\",\n",
        "    \"gmta\" : \"great minds think alike\",\n",
        "    \"gn\" : \"good night\",\n",
        "    \"g.o.a.t\" : \"greatest of all time\",\n",
        "    \"goat\" : \"greatest of all time\",\n",
        "    \"goi\" : \"get over it\",\n",
        "    \"gps\" : \"global positioning system\",\n",
        "    \"gr8\" : \"great\",\n",
        "    \"gratz\" : \"congratulations\",\n",
        "    \"gyal\" : \"girl\",\n",
        "    \"h&c\" : \"hot and cold\",\n",
        "    \"hp\" : \"horsepower\",\n",
        "    \"hr\" : \"hour\",\n",
        "    \"hrh\" : \"his royal highness\",\n",
        "    \"ht\" : \"height\",\n",
        "    \"ibrb\" : \"i will be right back\",\n",
        "    \"ic\" : \"i see\",\n",
        "    \"icq\" : \"i seek you\",\n",
        "    \"icymi\" : \"in case you missed it\",\n",
        "    \"idc\" : \"i do not care\",\n",
        "    \"idgadf\" : \"i do not give a damn fuck\",\n",
        "    \"idgaf\" : \"i do not give a fuck\",\n",
        "    \"idk\" : \"i do not know\",\n",
        "    \"ie\" : \"that is\",\n",
        "    \"i.e\" : \"that is\",\n",
        "    \"ifyp\" : \"i feel your pain\",\n",
        "    \"IG\" : \"instagram\",\n",
        "    \"iirc\" : \"if i remember correctly\",\n",
        "    \"ilu\" : \"i love you\",\n",
        "    \"ily\" : \"i love you\",\n",
        "    \"imho\" : \"in my humble opinion\",\n",
        "    \"imo\" : \"in my opinion\",\n",
        "    \"imu\" : \"i miss you\",\n",
        "    \"iow\" : \"in other words\",\n",
        "    \"irl\" : \"in real life\",\n",
        "    \"j4f\" : \"just for fun\",\n",
        "    \"jic\" : \"just in case\",\n",
        "    \"jk\" : \"just kidding\",\n",
        "    \"jsyk\" : \"just so you know\",\n",
        "    \"l8r\" : \"later\",\n",
        "    \"lb\" : \"pound\",\n",
        "    \"lbs\" : \"pounds\",\n",
        "    \"ldr\" : \"long distance relationship\",\n",
        "    \"lmao\" : \"laugh my ass off\",\n",
        "    \"lmfao\" : \"laugh my fucking ass off\",\n",
        "    \"lol\" : \"laughing out loud\",\n",
        "    \"ltd\" : \"limited\",\n",
        "    \"ltns\" : \"long time no see\",\n",
        "    \"m8\" : \"mate\",\n",
        "    \"mf\" : \"motherfucker\",\n",
        "    \"mfs\" : \"motherfuckers\",\n",
        "    \"mfw\" : \"my face when\",\n",
        "    \"mofo\" : \"motherfucker\",\n",
        "    \"mph\" : \"miles per hour\",\n",
        "    \"mr\" : \"mister\",\n",
        "    \"mrw\" : \"my reaction when\",\n",
        "    \"ms\" : \"miss\",\n",
        "    \"mte\" : \"my thoughts exactly\",\n",
        "    \"nagi\" : \"not a good idea\",\n",
        "    \"nbc\" : \"national broadcasting company\",\n",
        "    \"nbd\" : \"not big deal\",\n",
        "    \"nfs\" : \"not for sale\",\n",
        "    \"ngl\" : \"not going to lie\",\n",
        "    \"nhs\" : \"national health service\",\n",
        "    \"nrn\" : \"no reply necessary\",\n",
        "    \"nsfl\" : \"not safe for life\",\n",
        "    \"nsfw\" : \"not safe for work\",\n",
        "    \"nth\" : \"nice to have\",\n",
        "    \"nvr\" : \"never\",\n",
        "    \"nyc\" : \"new york city\",\n",
        "    \"oc\" : \"original content\",\n",
        "    \"og\" : \"original\",\n",
        "    \"ohp\" : \"overhead projector\",\n",
        "    \"oic\" : \"oh i see\",\n",
        "    \"omdb\" : \"over my dead body\",\n",
        "    \"omg\" : \"oh my god\",\n",
        "    \"omw\" : \"on my way\",\n",
        "    \"p.a\" : \"per annum\",\n",
        "    \"p.m\" : \"after midday\",\n",
        "    \"pm\" : \"prime minister\",\n",
        "    \"poc\" : \"people of color\",\n",
        "    \"pov\" : \"point of view\",\n",
        "    \"pp\" : \"pages\",\n",
        "    \"ppl\" : \"people\",\n",
        "    \"prw\" : \"parents are watching\",\n",
        "    \"ps\" : \"postscript\",\n",
        "    \"pt\" : \"point\",\n",
        "    \"ptb\" : \"please text back\",\n",
        "    \"pto\" : \"please turn over\",\n",
        "    \"qpsa\" : \"what happens\",\n",
        "    \"ratchet\" : \"rude\",\n",
        "    \"rbtl\" : \"read between the lines\",\n",
        "    \"rlrt\" : \"real life retweet\", \n",
        "    \"rofl\" : \"rolling on the floor laughing\",\n",
        "    \"roflol\" : \"rolling on the floor laughing out loud\",\n",
        "    \"rotflmao\" : \"rolling on the floor laughing my ass off\",\n",
        "    \"rt\" : \"retweet\",\n",
        "    \"ruok\" : \"are you ok\",\n",
        "    \"sfw\" : \"safe for work\",\n",
        "    \"sk8\" : \"skate\",\n",
        "    \"smh\" : \"shake my head\",\n",
        "    \"sq\" : \"square\",\n",
        "    \"srsly\" : \"seriously\", \n",
        "    \"ssdd\" : \"same stuff different day\",\n",
        "    \"tbh\" : \"to be honest\",\n",
        "    \"tbs\" : \"tablespooful\",\n",
        "    \"tbsp\" : \"tablespooful\",\n",
        "    \"tfw\" : \"that feeling when\",\n",
        "    \"thks\" : \"thank you\",\n",
        "    \"tho\" : \"though\",\n",
        "    \"thx\" : \"thank you\",\n",
        "    \"tia\" : \"thanks in advance\",\n",
        "    \"til\" : \"today i learned\",\n",
        "    \"tl;dr\" : \"too long i did not read\",\n",
        "    \"tldr\" : \"too long i did not read\",\n",
        "    \"tmb\" : \"tweet me back\",\n",
        "    \"tntl\" : \"trying not to laugh\",\n",
        "    \"ttyl\" : \"talk to you later\",\n",
        "    \"u\" : \"you\",\n",
        "    \"u2\" : \"you too\",\n",
        "    \"u4e\" : \"yours for ever\",\n",
        "    \"utc\" : \"coordinated universal time\",\n",
        "    \"w/\" : \"with\",\n",
        "    \"w/o\" : \"without\",\n",
        "    \"w8\" : \"wait\",\n",
        "    \"wassup\" : \"what is up\",\n",
        "    \"wb\" : \"welcome back\",\n",
        "    \"wtf\" : \"what the fuck\",\n",
        "    \"wtg\" : \"way to go\",\n",
        "    \"wtpa\" : \"where the party at\",\n",
        "    \"wuf\" : \"where are you from\",\n",
        "    \"wuzup\" : \"what is up\",\n",
        "    \"wywh\" : \"wish you were here\",\n",
        "    \"yd\" : \"yard\",\n",
        "    \"ygtr\" : \"you got that right\",\n",
        "    \"ynk\" : \"you never know\",\n",
        "    \"zzz\" : \"sleeping bored and tired\"\n",
        "}"
      ],
      "execution_count": 0,
      "outputs": []
    },
    {
      "cell_type": "code",
      "metadata": {
        "id": "KUgxjMsKpC4j",
        "colab_type": "code",
        "colab": {}
      },
      "source": [
        "# Thanks to https://www.kaggle.com/rftexas/text-only-kfold-bert\n",
        "def convert_abbrev(word):\n",
        "    return abbreviations[word.lower()] if word.lower() in abbreviations.keys() else word"
      ],
      "execution_count": 0,
      "outputs": []
    },
    {
      "cell_type": "code",
      "metadata": {
        "id": "svYnqlWMpFa7",
        "colab_type": "code",
        "colab": {}
      },
      "source": [
        "# Thanks to https://www.kaggle.com/rftexas/text-only-kfold-bert\n",
        "from nltk.tokenize import word_tokenize\n",
        "def convert_abbrev_in_text(text):\n",
        "    tokens = word_tokenize(text)\n",
        "    tokens = [convert_abbrev(word) for word in tokens]\n",
        "    text = ' '.join(tokens)\n",
        "    return text"
      ],
      "execution_count": 0,
      "outputs": []
    },
    {
      "cell_type": "code",
      "metadata": {
        "id": "90_Dtsk-pbRD",
        "colab_type": "code",
        "outputId": "e1f5c6cd-0713-4b24-e23d-97135e933299",
        "colab": {
          "base_uri": "https://localhost:8080/",
          "height": 52
        }
      },
      "source": [
        "# Thanks to https://www.kaggle.com/rftexas/text-only-kfold-bert\n",
        "import nltk\n",
        "nltk.download('punkt')\n",
        "train[\"text\"] = train[\"text\"].apply(lambda x: convert_abbrev_in_text(x))\n",
        "test[\"text\"] = test[\"text\"].apply(lambda x: convert_abbrev_in_text(x))"
      ],
      "execution_count": 0,
      "outputs": [
        {
          "output_type": "stream",
          "text": [
            "[nltk_data] Downloading package punkt to /root/nltk_data...\n",
            "[nltk_data]   Package punkt is already up-to-date!\n"
          ],
          "name": "stdout"
        }
      ]
    },
    {
      "cell_type": "markdown",
      "metadata": {
        "id": "hbvWcoCXv9WD",
        "colab_type": "text"
      },
      "source": [
        "## 4.2 Studying the 305 duplicates\n",
        "From the beguining we realized that the dataset contained duplicates. Since they represent the 4% of the total entries, we decided to study them more deeply. Thanks to other another person's submission, we realized that between the duplicates there were ones that were wrongly classified. In other words, the same tweet just containing a different url (not relevant) were classified in both real and not real disasters.\n",
        "\n",
        "We proceed to convert using an average for each duplicate class their corresponding targets.\n"
      ]
    },
    {
      "cell_type": "code",
      "metadata": {
        "id": "-fGi3jsTY37S",
        "colab_type": "code",
        "outputId": "e5bd17af-9d7d-4663-8eac-63019cbe6f8f",
        "colab": {
          "base_uri": "https://localhost:8080/",
          "height": 34
        }
      },
      "source": [
        "# the code in the cell is taken from https://www.kaggle.com/gunesevitan/nlp-with-disaster-tweets-eda-cleaning-and-bert\n",
        "df_mislabeled = train.groupby(['text']).nunique().sort_values(by='target', ascending=False)\n",
        "df_mislabeled = df_mislabeled[df_mislabeled['target'] > 1]['target']\n",
        "index_misl = df_mislabeled.index.tolist()\n",
        "\n",
        "lenght = len(index_misl)\n",
        "\n",
        "print(f\"There are {lenght} equivalence classes with mislabelling\")"
      ],
      "execution_count": 0,
      "outputs": [
        {
          "output_type": "stream",
          "text": [
            "There are 18 equivalence classes with mislabelling\n"
          ],
          "name": "stdout"
        }
      ]
    },
    {
      "cell_type": "code",
      "metadata": {
        "id": "CWAnf6NCZEzq",
        "colab_type": "code",
        "colab": {}
      },
      "source": [
        "train_nu_target = train[train['text'].isin(index_misl)].sort_values(by = 'text')"
      ],
      "execution_count": 0,
      "outputs": []
    },
    {
      "cell_type": "code",
      "metadata": {
        "id": "mt7_i7TVZnK8",
        "colab_type": "code",
        "outputId": "712d62df-07f9-457a-9936-41023083cc09",
        "colab": {
          "base_uri": "https://localhost:8080/",
          "height": 237
        }
      },
      "source": [
        "copy = train_nu_target.copy()\n",
        "classes = copy.groupby('text').agg({'keyword':np.size, 'target':np.mean}).rename(columns={'keyword':'Number of records in train set', 'target':'Target mean'})\n",
        "\n",
        "classes.sort_values('Number of records in train set', ascending=False).head(5)"
      ],
      "execution_count": 0,
      "outputs": [
        {
          "output_type": "execute_result",
          "data": {
            "text/html": [
              "<div>\n",
              "<style scoped>\n",
              "    .dataframe tbody tr th:only-of-type {\n",
              "        vertical-align: middle;\n",
              "    }\n",
              "\n",
              "    .dataframe tbody tr th {\n",
              "        vertical-align: top;\n",
              "    }\n",
              "\n",
              "    .dataframe thead th {\n",
              "        text-align: right;\n",
              "    }\n",
              "</style>\n",
              "<table border=\"1\" class=\"dataframe\">\n",
              "  <thead>\n",
              "    <tr style=\"text-align: right;\">\n",
              "      <th></th>\n",
              "      <th>Number of records in train set</th>\n",
              "      <th>Target mean</th>\n",
              "    </tr>\n",
              "    <tr>\n",
              "      <th>text</th>\n",
              "      <th></th>\n",
              "      <th></th>\n",
              "    </tr>\n",
              "  </thead>\n",
              "  <tbody>\n",
              "    <tr>\n",
              "      <th>He came to a land which was engulfed in tribal war and turned it into a land of peace that is . Madinah . # ProphetMuhammad # islam</th>\n",
              "      <td>6</td>\n",
              "      <td>0.333333</td>\n",
              "    </tr>\n",
              "    <tr>\n",
              "      <th>The Prophet ( peace be upon him ) said 'Save yourself from Hellfire even if it is by giving half a date in charity . '</th>\n",
              "      <td>6</td>\n",
              "      <td>0.333333</td>\n",
              "    </tr>\n",
              "    <tr>\n",
              "      <th>To fight bioterrorism sir .</th>\n",
              "      <td>4</td>\n",
              "      <td>0.500000</td>\n",
              "    </tr>\n",
              "    <tr>\n",
              "      <th>.POTUS # StrategicPatience is a strategy for # Genocide ; refugees ; IDP Internally displaced people ; horror ; and so on . https : //t.co/rqWuoy1fm4</th>\n",
              "      <td>4</td>\n",
              "      <td>0.750000</td>\n",
              "    </tr>\n",
              "    <tr>\n",
              "      <th>that horrible sinking feeling when youÛªve been at home on your phone for a while and you realise its been on 3G this whole time</th>\n",
              "      <td>4</td>\n",
              "      <td>0.500000</td>\n",
              "    </tr>\n",
              "  </tbody>\n",
              "</table>\n",
              "</div>"
            ],
            "text/plain": [
              "                                                    Number of records in train set  Target mean\n",
              "text                                                                                           \n",
              "He came to a land which was engulfed in tribal ...                               6     0.333333\n",
              "The Prophet ( peace be upon him ) said 'Save yo...                               6     0.333333\n",
              "To fight bioterrorism sir .                                                      4     0.500000\n",
              ".POTUS # StrategicPatience is a strategy for # ...                               4     0.750000\n",
              "that horrible sinking feeling when youÛªve bee...                               4     0.500000"
            ]
          },
          "metadata": {
            "tags": []
          },
          "execution_count": 215
        }
      ]
    },
    {
      "cell_type": "code",
      "metadata": {
        "id": "09ai7pG1Zt5j",
        "colab_type": "code",
        "colab": {}
      },
      "source": [
        "majority_df = train_nu_target.groupby(['text'])['target'].mean()\n",
        "#majority_df.index\n",
        "def relabel(r, majority_index):\n",
        "    ind = ''\n",
        "    if r['text'] in majority_index:\n",
        "        ind = r['text'] \n",
        "        return int(majority_df[ind] <= 0.5) # Return 0 if majority_df <= 0.5 else return 1\n",
        "    else: \n",
        "        return r['target'] "
      ],
      "execution_count": 0,
      "outputs": []
    },
    {
      "cell_type": "code",
      "metadata": {
        "id": "Q6P_b6WZZ2CY",
        "colab_type": "code",
        "colab": {}
      },
      "source": [
        "train['target'] = train.apply(lambda row: relabel(row, majority_df.index), axis = 1)"
      ],
      "execution_count": 0,
      "outputs": []
    },
    {
      "cell_type": "markdown",
      "metadata": {
        "id": "DPlbhPBPSEAN",
        "colab_type": "text"
      },
      "source": [
        "**Tweet comparison with disaster dataset**\n",
        "\n",
        "In order to improve our tweet's prediction, we have chosen to compare word's tweets to a list of words about disasters. For this match, a column called `dis_matches` has been added. This column contains the sum of matches encountered. \n",
        "\n",
        "We did the same but with a list of the existing keywords, `train[\"keyword\"].tolist()`. For this match, a column called `key_matches` has been added. This column contains the sum of matches encountered.\n",
        "\n",
        "**Findings** both seems to be not relevant for the predictions in terms of accuracy"
      ]
    },
    {
      "cell_type": "code",
      "metadata": {
        "id": "BorfkGZqR9Vn",
        "colab_type": "code",
        "colab": {}
      },
      "source": [
        "disaster_words = pd.read_csv(\"https://raw.githubusercontent.com/SarahBuechner/BigScale_Disaster_true_or_not/master/data/disaster_words.csv\")\n",
        "disaster_words = disaster_words[\"disaster word\"].tolist() + lst_disaster\n",
        "keywords = train[\"keyword\"].tolist()\n",
        "dis_matches = []\n",
        "key_matches = []\n",
        "\n",
        "for tweet in train['text']:\n",
        "  i = 0\n",
        "  j = 0\n",
        "  words = tweet.lower().split()\n",
        "  for word in words:\n",
        "    if word in keywords:\n",
        "      i += 1\n",
        "    if word in disaster_words:\n",
        "      j += 1\n",
        "  key_matches.append(i)\n",
        "  dis_matches.append(j)\n",
        "train[\"keyword_matches\"] = key_matches\n",
        "train[\"dis_matches\"] = dis_matches\n"
      ],
      "execution_count": 0,
      "outputs": []
    },
    {
      "cell_type": "markdown",
      "metadata": {
        "id": "B84irL_CSDoz",
        "colab_type": "text"
      },
      "source": [
        "## 4.3 Master data preprocessing function\n",
        "Before computing the models we need to implement the function `master_data_preprocessing` which allows the user to tokenize the tweet removing the noise:\n",
        "\n",
        "**Tokens removed:**\n",
        "- urls\n",
        "- html tags\n",
        "- tokens not containing alphabet characters\n",
        "- emojis (not used)\n",
        "- tockens with equal or less than 2 characters\n",
        "- stopwords\n",
        "- punctuation\n",
        "\n",
        "\n",
        "**Tokens modification:**\n",
        "- stemming\n",
        "- lemmatizing\n",
        "\n",
        "**Arguments:**\n",
        "- text: array containing the tweets."
      ]
    },
    {
      "cell_type": "code",
      "metadata": {
        "id": "CaJPT_ptR3av",
        "colab_type": "code",
        "colab": {}
      },
      "source": [
        "def master_data_preprocessing(text):\n",
        "\n",
        "    # Remove url\n",
        "    text = text.apply(lambda x : re.sub(r\"http\\S{0,}\", \" \", x))\n",
        "\n",
        "    # Remove the hastag \"#\" and keep the word\n",
        "    text = text.apply(lambda x: \" \".join(word.replace(\"#\", \" \") for word in x.split()))\n",
        "\n",
        "    # Remove HTML tags\n",
        "    text = text.apply(lambda x :re.compile(r'<.*?>').sub(r'',x))\n",
        "    \n",
        "    # Remove other characters\n",
        "    text = text.apply(lambda x : re.sub(\"[^a-zA-Z]\", \" \",x))\n",
        "\n",
        "    #Remove emojis\n",
        "    '''text = text.apply(lambda x :re.compile(\"[\"\n",
        "                           u\"\\U0001F600-\\U0001F64F\"  # emoticons\n",
        "                           u\"\\U0001F300-\\U0001F5FF\"  # symbols & pictographs\n",
        "                           u\"\\U0001F680-\\U0001F6FF\"  # transport & map symbols\n",
        "                           u\"\\U0001F1E0-\\U0001F1FF\"  # flags (iOS)\n",
        "                           u\"\\U00002702-\\U000027B0\"\n",
        "                           u\"\\U000024C2-\\U0001F251\"\n",
        "                           \"]+\", flags=re.UNICODE).sub(r'', x))'''\n",
        "\n",
        "    # Remove tokens with less than 2 charcters\n",
        "    text = text.apply(lambda x : re.sub(r'\\b\\w{0,2}\\b', '', x))\n",
        "\n",
        "    # Remove stopwords\n",
        "    text = text.apply(lambda x: \" \".join([word for word in x.lower().split() if word not in stopwords.words('english')]))\n",
        "\n",
        "    # Remove punctuation method: (here we delete also \"#\")\n",
        "    text = text.apply(lambda x: x.translate(str.maketrans('', '', string.punctuation)))\n",
        "\n",
        "    # Stemming method\n",
        "    text = text.apply(lambda x: \" \".join([SnowballStemmer(\"english\").stem(word) for word in x.split()]))\n",
        "\n",
        "    # Lemmatizing method\n",
        "    space_tokenizer = WhitespaceTokenizer()\n",
        "    lemmatizer = WordNetLemmatizer()\n",
        "    text = text.apply(lambda x: \" \".join([lemmatizer.lemmatize(word) for word in space_tokenizer.tokenize(x)]))\n",
        "    \n",
        "    return text"
      ],
      "execution_count": 0,
      "outputs": []
    },
    {
      "cell_type": "code",
      "metadata": {
        "id": "4a0gYI1PSMlU",
        "colab_type": "code",
        "colab": {}
      },
      "source": [
        "# Before starting the machine learning and after modyfing several features, now we imply our master_data_processing function\n",
        "train[\"text_processed\"] = master_data_preprocessing(train['text'])\n",
        "test[\"text_processed\"] = master_data_preprocessing(test['text'])"
      ],
      "execution_count": 0,
      "outputs": []
    },
    {
      "cell_type": "markdown",
      "metadata": {
        "id": "3QjRhEw2Qqjb",
        "colab_type": "text"
      },
      "source": [
        "# 5. Machine Learning"
      ]
    },
    {
      "cell_type": "code",
      "metadata": {
        "id": "Nu9MPp8barLj",
        "colab_type": "code",
        "colab": {}
      },
      "source": [
        "# Converting the \"Null\" to \"None\". Necessary when keyword feature is used for predicting the targets\n",
        "train['keyword'] = train['keyword'].fillna('None')\n",
        "le = LabelEncoder()\n",
        "encoded_keyword = pd.DataFrame(le.fit_transform(train[\"keyword\"]), columns=[\"encoded_keyword\"])\n",
        "train = pd.concat((train, encoded_keyword), axis=1)"
      ],
      "execution_count": 0,
      "outputs": []
    },
    {
      "cell_type": "code",
      "metadata": {
        "id": "DazuNFPQk3-m",
        "colab_type": "code",
        "colab": {}
      },
      "source": [
        "X = train['text_processed'] # the features we want to analyze\n",
        "y = train['target'] # the labels, or answers, we want to test against\n",
        "\n",
        "X_train, X_test, y_train, y_test = train_test_split(X, y, test_size=0.2, random_state=72)"
      ],
      "execution_count": 0,
      "outputs": []
    },
    {
      "cell_type": "markdown",
      "metadata": {
        "id": "ENgGeEIbRJ-o",
        "colab_type": "text"
      },
      "source": [
        "**Count Vectorizer:** The most straightforward one, it counts the number of times a token shows up in the document and uses this value as its weight.\n"
      ]
    },
    {
      "cell_type": "code",
      "metadata": {
        "id": "-ueuhtXMesd_",
        "colab_type": "code",
        "colab": {}
      },
      "source": [
        "# Converting the tokens using CountVectorizer\n",
        "cv = CountVectorizer(analyzer = \"word\")\n",
        "X_train_cv = cv.fit_transform(X_train)\n",
        "X_test_cv = cv.transform(X_test)"
      ],
      "execution_count": 0,
      "outputs": []
    },
    {
      "cell_type": "markdown",
      "metadata": {
        "id": "dttb9QcUWgpb",
        "colab_type": "text"
      },
      "source": [
        "**TfidfVectorizer:** Without going into the math, TF-IDF are word frequency scores that try to highlight words that are more interesting, e.g. frequent in a document but not across documents. The TfidfVectorizer will tokenize documents, learn the vocabulary and inverse document frequency weightings, and allow you to encode new documents."
      ]
    },
    {
      "cell_type": "code",
      "metadata": {
        "id": "hjmq6Q3NeqPl",
        "colab_type": "code",
        "colab": {}
      },
      "source": [
        "# Converting the tockens using the TfidfVectorizer\n",
        "tfidf = TfidfVectorizer(ngram_range = (1,3))\n",
        "X_train_tfidf = tfidf.fit_transform(X_train)\n",
        "X_test_tfidf = tfidf.transform(X_test)"
      ],
      "execution_count": 0,
      "outputs": []
    },
    {
      "cell_type": "code",
      "metadata": {
        "id": "Uqly-mm0y6HD",
        "colab_type": "code",
        "colab": {}
      },
      "source": [
        "# Accuracy function\n",
        "\"\"\"\n",
        "Function to compute accuracy based on classifier \n",
        "Parameters:\n",
        "  Xtrain: feature for the train\n",
        "  Xtest: feature for the text\n",
        "  ytrain: target for the train\n",
        "  ytext: target for the text\n",
        "  classifier: set of machine learnig methods\n",
        "\"\"\" \n",
        "def computeAccuracy(Xtrain,Xtest,ytrain,ytest,classifiers):\n",
        "  accuracies=[]\n",
        "  models=[]\n",
        "\n",
        "  for classifier in classifiers:\n",
        "    fit = classifier.fit(Xtrain, ytrain)\n",
        "    pred = fit.predict(Xtest)\n",
        "    accuracy = accuracy_score(pred, ytest)\n",
        "    print('Accuracy of '+ classifier.__class__.__name__ + ' is ' + str(accuracy))\n"
      ],
      "execution_count": 0,
      "outputs": []
    },
    {
      "cell_type": "code",
      "metadata": {
        "id": "8KyeR9bXVhAL",
        "colab_type": "code",
        "colab": {}
      },
      "source": [
        "# Creating the classifiers\n",
        "classifiers = [\n",
        "    LogisticRegression(C = 0.0001, solver = 'lbfgs', max_iter = 200, class_weight = 'balanced'),\n",
        "    KNeighborsClassifier(n_neighbors=3),\n",
        "    DecisionTreeClassifier(max_depth=100, class_weight = 'balanced'),\n",
        "    RandomForestClassifier(n_estimators = 200, class_weight = 'balanced' ),\n",
        "    svm.SVC(kernel='rbf', C = 10.0, gamma=0.1)]"
      ],
      "execution_count": 0,
      "outputs": []
    },
    {
      "cell_type": "code",
      "metadata": {
        "id": "lf4j3m7C0JYt",
        "colab_type": "code",
        "outputId": "f889af92-fa71-4936-cce1-96e2ee568f8e",
        "colab": {
          "base_uri": "https://localhost:8080/",
          "height": 104
        }
      },
      "source": [
        "# CV: Computing the accuracy for each classifier\n",
        "computeAccuracy(X_train_cv, X_test_cv, y_train, y_test, classifiers)"
      ],
      "execution_count": 0,
      "outputs": [
        {
          "output_type": "stream",
          "text": [
            "Accuracy of LogisticRegression is 0.7925147734734077\n",
            "Accuracy of KNeighborsClassifier is 0.6848325673013789\n",
            "Accuracy of DecisionTreeClassifier is 0.7774130006565988\n",
            "Accuracy of RandomForestClassifier is 0.8056467498358503\n",
            "Accuracy of SVC is 0.804333552199606\n"
          ],
          "name": "stdout"
        }
      ]
    },
    {
      "cell_type": "code",
      "metadata": {
        "id": "9cZelB9ZSAoh",
        "colab_type": "code",
        "outputId": "36033a8b-6e04-4242-8c6c-f855bb2ad2c2",
        "colab": {
          "base_uri": "https://localhost:8080/",
          "height": 104
        }
      },
      "source": [
        "# IDFTDF: Computing the accuracy for each classifier\n",
        "computeAccuracy(X_train_tfidf, X_test_tfidf, y_train, y_test, classifiers)"
      ],
      "execution_count": 0,
      "outputs": [
        {
          "output_type": "stream",
          "text": [
            "Accuracy of LogisticRegression is 0.7925147734734077\n",
            "Accuracy of KNeighborsClassifier is 0.7550886408404465\n",
            "Accuracy of DecisionTreeClassifier is 0.7426132632961261\n",
            "Accuracy of RandomForestClassifier is 0.7971109652002626\n",
            "Accuracy of SVC is 0.8095863427445831\n"
          ],
          "name": "stdout"
        }
      ]
    },
    {
      "cell_type": "code",
      "metadata": {
        "id": "H-yBBGw4UxdE",
        "colab_type": "code",
        "outputId": "656bcd12-2d97-4595-ca57-5dae257e1475",
        "colab": {
          "base_uri": "https://localhost:8080/",
          "height": 540
        }
      },
      "source": [
        "# Precision-Recall curve\n",
        "for classifier in classifiers:  \n",
        "  viz = PrecisionRecallCurve(classifier, fill_area=False, ap_score=False)\n",
        "  viz.fit(X_train_cv, y_train)\n",
        "  viz.score(X_test_cv, y_test)\n",
        "  manual_legend(viz, ('RandomForestClassifier', 'LogisticRegression', 'DecisionTreeClassifier', 'KNeighborsClassifier', 'SVC'), ('m', 'b', 'r', 'g','y'), frameon=True, loc='upper right')"
      ],
      "execution_count": 0,
      "outputs": [
        {
          "output_type": "stream",
          "text": [
            "/usr/local/lib/python3.6/dist-packages/sklearn/base.py:197: FutureWarning: From version 0.24, get_params will raise an AttributeError if a parameter cannot be retrieved as an instance attribute. Previously it would return None.\n",
            "  FutureWarning)\n",
            "/usr/local/lib/python3.6/dist-packages/sklearn/base.py:197: FutureWarning: From version 0.24, get_params will raise an AttributeError if a parameter cannot be retrieved as an instance attribute. Previously it would return None.\n",
            "  FutureWarning)\n",
            "/usr/local/lib/python3.6/dist-packages/sklearn/base.py:197: FutureWarning: From version 0.24, get_params will raise an AttributeError if a parameter cannot be retrieved as an instance attribute. Previously it would return None.\n",
            "  FutureWarning)\n",
            "/usr/local/lib/python3.6/dist-packages/sklearn/base.py:197: FutureWarning: From version 0.24, get_params will raise an AttributeError if a parameter cannot be retrieved as an instance attribute. Previously it would return None.\n",
            "  FutureWarning)\n",
            "/usr/local/lib/python3.6/dist-packages/sklearn/base.py:197: FutureWarning: From version 0.24, get_params will raise an AttributeError if a parameter cannot be retrieved as an instance attribute. Previously it would return None.\n",
            "  FutureWarning)\n"
          ],
          "name": "stderr"
        },
        {
          "output_type": "display_data",
          "data": {
            "image/png": "[encoded data removed]",
            "text/plain": [
              "<Figure size 576x396 with 1 Axes>"
            ]
          },
          "metadata": {
            "tags": []
          }
        }
      ]
    },
    {
      "cell_type": "markdown",
      "metadata": {
        "id": "hfp-wbH59LAw",
        "colab_type": "text"
      },
      "source": [
        "##Ensemble methods\n",
        "Ensemble methods are techniques that combine predictions from different machine learning algorithms. The idea is to increase the accuracy of predictions compared to predictions using individual models. \n",
        "\n",
        "We used the following methods:  \n",
        "- **Bootstrap Aggregating (BAGGing)** <br> \n",
        "\n",
        "First it creates random samples of the training data set with subsets of the training data set. Then for each sample it builds a model (one of the algorithms used before) and finally combines the different results of the models.\n",
        "\n",
        "- **Extremely randomized trees** <br>\n",
        "\n",
        "A random subset of candidate features is used and the thresholds are chosen randomly as well. The best of these randomly-generated thresholds is picked as the splitting rule. This usually allows toreduce the variance of the model even further, at the expense of a slightly greater increase in bias. \n",
        "\n",
        "- **Boosting (ex: AdaBoost)** <br>\n",
        "\n",
        "It is a sequential technique where the first algorithm is trained on the entire data set. Then the following algorithms are built by fitting the residuals of the first algorithm. This means that we will give higher weight to the observations that were poorly predicted by the previous model.\n",
        "\n",
        "- **Voting** <br>\n",
        "\n",
        "It aggregates the predictions of each classifier and predicts the class that gets the most votes. For ‘hard’ voting a majority-vote is used for classification. For ‘soft’voting we can set weights to give more priorities to certain classifiers according to their performance."
      ]
    },
    {
      "cell_type": "code",
      "metadata": {
        "id": "x9PSYj8j9I2H",
        "colab_type": "code",
        "colab": {}
      },
      "source": [
        "#Base_estimators\n",
        "bagg_classifiers = [\n",
        "                BaggingClassifier(LogisticRegression(C = 0.0001, solver = 'lbfgs', max_iter = 200, class_weight = 'balanced'), n_estimators=10, max_samples=1.0, max_features=1.0, bootstrap=True, bootstrap_features=False, oob_score=False, warm_start=False, n_jobs=None, random_state=None, verbose=0),\n",
        "                BaggingClassifier(KNeighborsClassifier(n_neighbors=3), n_estimators=10, max_samples=1.0, max_features=1.0, bootstrap=True, bootstrap_features=False, oob_score=False, warm_start=False, n_jobs=None, random_state=None, verbose=0),\n",
        "                BaggingClassifier(DecisionTreeClassifier(max_depth=100, class_weight = 'balanced'), n_estimators=10, max_samples=1.0, max_features=1.0, bootstrap=True, bootstrap_features=False, oob_score=False, warm_start=False, n_jobs=None, random_state=None, verbose=0),\n",
        "                BaggingClassifier(RandomForestClassifier(n_estimators = 200, class_weight = 'balanced' ), n_estimators=10, max_samples=1.0, max_features=1.0, bootstrap=True, bootstrap_features=False, oob_score=False, warm_start=False, n_jobs=None, random_state=None, verbose=0),\n",
        "                BaggingClassifier(svm.SVC(kernel='rbf', C = 10.0, gamma=0.1), n_estimators=10, max_samples=1.0, max_features=1.0, bootstrap=True, bootstrap_features=False, oob_score=False, warm_start=False, n_jobs=None, random_state=None, verbose=0)\n",
        "                ]"
      ],
      "execution_count": 0,
      "outputs": []
    },
    {
      "cell_type": "code",
      "metadata": {
        "id": "plcWJTWNHBA_",
        "colab_type": "code",
        "outputId": "8d9d5552-9e56-4bee-f9dc-cc5d24cd8736",
        "colab": {
          "base_uri": "https://localhost:8080/",
          "height": 104
        }
      },
      "source": [
        "# with CV data\n",
        "computeAccuracy(X_train_cv, X_test_cv, y_train, y_test,bagg_classifiers)"
      ],
      "execution_count": 0,
      "outputs": [
        {
          "output_type": "stream",
          "text": [
            "Accuracy of BaggingClassifier is 0.7839789888378201\n",
            "Accuracy of BaggingClassifier is 0.6782665791201575\n",
            "Accuracy of BaggingClassifier is 0.7747866053841103\n",
            "Accuracy of BaggingClassifier is 0.799080761654629\n",
            "Accuracy of BaggingClassifier is 0.8036769533814839\n"
          ],
          "name": "stdout"
        }
      ]
    },
    {
      "cell_type": "code",
      "metadata": {
        "id": "2GPrw3F3OcIz",
        "colab_type": "code",
        "outputId": "3bfd7e6d-0c57-462e-81b1-85d45dac85f5",
        "colab": {
          "base_uri": "https://localhost:8080/",
          "height": 104
        }
      },
      "source": [
        "# with tfidf data\n",
        "computeAccuracy(X_train_cv, X_test_cv, y_train, y_test,bagg_classifiers)"
      ],
      "execution_count": 0,
      "outputs": [
        {
          "output_type": "stream",
          "text": [
            "Accuracy of BaggingClassifier is 0.6776099803020355\n",
            "Accuracy of BaggingClassifier is 0.6861457649376231\n",
            "Accuracy of BaggingClassifier is 0.7793827971109653\n",
            "Accuracy of BaggingClassifier is 0.799080761654629\n",
            "Accuracy of BaggingClassifier is 0.7984241628365069\n"
          ],
          "name": "stdout"
        }
      ]
    },
    {
      "cell_type": "code",
      "metadata": {
        "id": "m37cWeK0O3xj",
        "colab_type": "code",
        "outputId": "5071db82-d831-4f0b-a173-f2759e08c8f0",
        "colab": {
          "base_uri": "https://localhost:8080/",
          "height": 72
        }
      },
      "source": [
        "# Other ensemble classifiers\n",
        "estimators = []\n",
        "model1 = LogisticRegression()\n",
        "estimators.append(('logistic', model1))\n",
        "model2 = DecisionTreeClassifier()\n",
        "estimators.append(('cart', model2))\n",
        "model3 = SVC()\n",
        "estimators.append(('svm', model3))\n",
        "\n",
        "kfold = model_selection.KFold(n_splits=10, random_state=0)\n",
        "\n",
        "ensemble_classif = [\n",
        "                ExtraTreesClassifier(n_estimators=20, max_depth=None, min_samples_split=2, random_state=0),\n",
        "                AdaBoostClassifier(n_estimators=100, random_state=0),\n",
        "                VotingClassifier(estimators)\n",
        "                ]"
      ],
      "execution_count": 0,
      "outputs": [
        {
          "output_type": "stream",
          "text": [
            "/usr/local/lib/python3.6/dist-packages/sklearn/model_selection/_split.py:296: FutureWarning: Setting a random_state has no effect since shuffle is False. This will raise an error in 0.24. You should leave random_state to its default (None), or set shuffle=True.\n",
            "  FutureWarning\n"
          ],
          "name": "stderr"
        }
      ]
    },
    {
      "cell_type": "code",
      "metadata": {
        "id": "hCxtPoaMiRwH",
        "colab_type": "code",
        "outputId": "af98668d-a289-4ebb-dda5-cd2dd6099ab0",
        "colab": {
          "base_uri": "https://localhost:8080/",
          "height": 34
        }
      },
      "source": [
        "# Voting (hard)\n",
        "voting_clf = VotingClassifier(estimators=[\n",
        "                              ('logistic', LogisticRegression(C = 0.0001, solver = 'lbfgs', max_iter = 200, class_weight = 'balanced')),\n",
        "                              ('Rforest', RandomForestClassifier(n_estimators = 200, class_weight = 'balanced' )),\n",
        "                              ('DTree', DecisionTreeClassifier(max_depth=100, class_weight = 'balanced')),\n",
        "                              ('svm', svm.SVC(kernel='rbf', C = 10.0, gamma=0.1))\n",
        "                              ], voting='hard')\n",
        "voting_clf.fit(X_train_tfidf, y_train)\n",
        "pred = voting_clf.predict(X_test_tfidf)\n",
        "acc = accuracy_score(pred, y_test)\n",
        "print(\"Accuracy is: \" + str(acc))"
      ],
      "execution_count": 0,
      "outputs": [
        {
          "output_type": "stream",
          "text": [
            "Accuracy is: 0.8076165462902167\n"
          ],
          "name": "stdout"
        }
      ]
    },
    {
      "cell_type": "code",
      "metadata": {
        "id": "qKKCphMnO36e",
        "colab_type": "code",
        "outputId": "a1fd382d-df79-4c2d-a6cd-38d6b263d39e",
        "colab": {
          "base_uri": "https://localhost:8080/",
          "height": 69
        }
      },
      "source": [
        "# with CV data\n",
        "computeAccuracy(X_train_cv, X_test_cv, y_train, y_test,ensemble_classif)"
      ],
      "execution_count": 0,
      "outputs": [
        {
          "output_type": "stream",
          "text": [
            "Accuracy of ExtraTreesClassifier is 0.8017071569271176\n",
            "Accuracy of AdaBoostClassifier is 0.7708470124753776\n",
            "Accuracy of VotingClassifier is 0.8194353250164149\n"
          ],
          "name": "stdout"
        }
      ]
    },
    {
      "cell_type": "code",
      "metadata": {
        "id": "75vK1DDKO-s5",
        "colab_type": "code",
        "outputId": "3570186f-85ff-451e-bcc4-b0889c1d0c13",
        "colab": {
          "base_uri": "https://localhost:8080/",
          "height": 69
        }
      },
      "source": [
        "# with tfidf data\n",
        "computeAccuracy(X_train_tfidf, X_test_tfidf, y_train, y_test,ensemble_classif)"
      ],
      "execution_count": 0,
      "outputs": [
        {
          "output_type": "stream",
          "text": [
            "Accuracy of ExtraTreesClassifier is 0.7852921864740644\n",
            "Accuracy of AdaBoostClassifier is 0.7747866053841103\n",
            "Accuracy of VotingClassifier is 0.8010505581089954\n"
          ],
          "name": "stdout"
        }
      ]
    },
    {
      "cell_type": "code",
      "metadata": {
        "id": "Opz_c_gJ-IHs",
        "colab_type": "code",
        "outputId": "124f47e6-9312-48ff-caee-e39494b2eeca",
        "colab": {
          "base_uri": "https://localhost:8080/",
          "height": 34
        }
      },
      "source": [
        "# Voting (soft)\n",
        "voting_clf_soft = VotingClassifier(estimators=[\n",
        "                              ('logistic', LogisticRegression(C = 0.0001, solver = 'lbfgs', max_iter = 200, class_weight = 'balanced')),\n",
        "                              ('Rforest', RandomForestClassifier(n_estimators = 200, class_weight = 'balanced' )),\n",
        "                              ('DTree', DecisionTreeClassifier(max_depth=100, class_weight = 'balanced')),\n",
        "                              ('svm', svm.SVC(kernel='rbf', C = 10.0, gamma=0.1, probability=True))\n",
        "                              ], voting='soft', weights=[1,2,1,2], flatten_transform=True)\n",
        "fit = voting_clf_soft.fit(X_train_tfidf, y_train)\n",
        "preds = voting_clf_soft.predict(X_test_tfidf)\n",
        "acc = accuracy_score(preds, y_test)\n",
        "print(\"Accuracy is: \" + str(acc))"
      ],
      "execution_count": 0,
      "outputs": [
        {
          "output_type": "stream",
          "text": [
            "Accuracy is: 0.8082731451083388\n"
          ],
          "name": "stdout"
        }
      ]
    },
    {
      "cell_type": "code",
      "metadata": {
        "id": "2odHAGyaoxRc",
        "colab_type": "code",
        "outputId": "f3e2cd97-fd29-4382-8a39-6bee64e1936d",
        "colab": {
          "base_uri": "https://localhost:8080/",
          "height": 436
        }
      },
      "source": [
        "for classifier in ensemble_classif[0:2]:  \n",
        "  visua = PrecisionRecallCurve(classifier, fill_area=False, ap_score=False)\n",
        "  visua.fit(X_train_cv, y_train)\n",
        "  visua.score(X_test_cv, y_test)\n",
        "  manual_legend(visua, ('ExtraTreesClassifier', 'AdaBoostClassifier'), ('g', 'b'), frameon=True, loc='upper right')"
      ],
      "execution_count": 0,
      "outputs": [
        {
          "output_type": "stream",
          "text": [
            "/usr/local/lib/python3.6/dist-packages/sklearn/base.py:197: FutureWarning: From version 0.24, get_params will raise an AttributeError if a parameter cannot be retrieved as an instance attribute. Previously it would return None.\n",
            "  FutureWarning)\n",
            "/usr/local/lib/python3.6/dist-packages/sklearn/base.py:197: FutureWarning: From version 0.24, get_params will raise an AttributeError if a parameter cannot be retrieved as an instance attribute. Previously it would return None.\n",
            "  FutureWarning)\n"
          ],
          "name": "stderr"
        },
        {
          "output_type": "display_data",
          "data": {
            "image/png": "[encoded data removed]",
            "text/plain": [
              "<Figure size 576x396 with 1 Axes>"
            ]
          },
          "metadata": {
            "tags": []
          }
        }
      ]
    },
    {
      "cell_type": "markdown",
      "metadata": {
        "id": "Xf1KWpqGAHlv",
        "colab_type": "text"
      },
      "source": [
        "## **Neural network**\n",
        "This part is commented because the runtime lasts more than 2h but the accuracy is not better than, for instance, the voting method."
      ]
    },
    {
      "cell_type": "code",
      "metadata": {
        "id": "6iIZ2n1wfQKO",
        "colab_type": "code",
        "outputId": "a90dbcbb-7e2d-47c6-cf43-13b7a5e3ce22",
        "colab": {
          "base_uri": "https://localhost:8080/",
          "height": 54
        }
      },
      "source": [
        "'''# KERAS PAU:\n",
        "from keras.models import Sequential\n",
        "from keras import layers\n",
        "\n",
        "input_dim = X_train_cv.shape[1]  # Number of features\n",
        "\n",
        "model = Sequential()\n",
        "\n",
        "model.add(layers.Dense(600, input_dim=input_dim, activation='relu'))\n",
        "model.add(layers.Dense(200))\n",
        "model.add(layers.Dense(150))\n",
        "model.add(layers.Dense(10))\n",
        "model.add(layers.Dense(1, activation='sigmoid'))'''"
      ],
      "execution_count": 0,
      "outputs": [
        {
          "output_type": "execute_result",
          "data": {
            "text/plain": [
              "\"# KERAS PAU:\\nfrom keras.models import Sequential\\nfrom keras import layers\\n\\ninput_dim = X_train_cv.shape[1]  # Number of features\\n\\nmodel = Sequential()\\n\\nmodel.add(layers.Dense(600, input_dim=input_dim, activation='relu'))\\nmodel.add(layers.Dense(200))\\nmodel.add(layers.Dense(150))\\nmodel.add(layers.Dense(10))\\nmodel.add(layers.Dense(1, activation='sigmoid'))\""
            ]
          },
          "metadata": {
            "tags": []
          },
          "execution_count": 239
        }
      ]
    },
    {
      "cell_type": "code",
      "metadata": {
        "id": "FajPJcJcfnyy",
        "colab_type": "code",
        "outputId": "ce6493bd-961c-475a-f56e-f64cb0756615",
        "colab": {
          "base_uri": "https://localhost:8080/",
          "height": 34
        }
      },
      "source": [
        "'''# KERAS PAU:\n",
        "model.compile(loss='binary_crossentropy', \n",
        "              optimizer='adam', \n",
        "              metrics=['accuracy'])\n",
        "model.summary()'''"
      ],
      "execution_count": 0,
      "outputs": [
        {
          "output_type": "execute_result",
          "data": {
            "text/plain": [
              "\"# KERAS PAU:\\nmodel.compile(loss='binary_crossentropy', \\n              optimizer='adam', \\n              metrics=['accuracy'])\\nmodel.summary()\""
            ]
          },
          "metadata": {
            "tags": []
          },
          "execution_count": 240
        }
      ]
    },
    {
      "cell_type": "code",
      "metadata": {
        "id": "noSIsv2tfw18",
        "colab_type": "code",
        "outputId": "20289766-cab2-4240-f750-64b459cece6d",
        "colab": {
          "base_uri": "https://localhost:8080/",
          "height": 54
        }
      },
      "source": [
        "'''# KERAS PAU:\n",
        "history = model.fit(X_train_cv, y_train,\n",
        "                    epochs=100,\n",
        "                    verbose=False,\n",
        "                    validation_data=(X_test_cv, y_test),\n",
        "                    batch_size=10)'''"
      ],
      "execution_count": 0,
      "outputs": [
        {
          "output_type": "execute_result",
          "data": {
            "text/plain": [
              "'# KERAS PAU:\\nhistory = model.fit(X_train_cv, y_train,\\n                    epochs=100,\\n                    verbose=False,\\n                    validation_data=(X_test_cv, y_test),\\n                    batch_size=10)'"
            ]
          },
          "metadata": {
            "tags": []
          },
          "execution_count": 241
        }
      ]
    },
    {
      "cell_type": "code",
      "metadata": {
        "id": "3XL6Z3MIgJv8",
        "colab_type": "code",
        "outputId": "e1ebd7e6-8954-45ee-c221-fe6f71c99158",
        "colab": {
          "base_uri": "https://localhost:8080/",
          "height": 54
        }
      },
      "source": [
        "'''# KERAS PAU:\n",
        "loss, accuracy = model.evaluate(X_train_cv, y_train, verbose=False)\n",
        "print(\"Training Accuracy: {:.4f}\".format(accuracy))\n",
        "loss, accuracy = model.evaluate(X_test_cv, y_test, verbose=False)\n",
        "print(\"Testing Accuracy:  {:.4f}\".format(accuracy))'''"
      ],
      "execution_count": 0,
      "outputs": [
        {
          "output_type": "execute_result",
          "data": {
            "text/plain": [
              "'# KERAS PAU:\\nloss, accuracy = model.evaluate(X_train_cv, y_train, verbose=False)\\nprint(\"Training Accuracy: {:.4f}\".format(accuracy))\\nloss, accuracy = model.evaluate(X_test_cv, y_test, verbose=False)\\nprint(\"Testing Accuracy:  {:.4f}\".format(accuracy))'"
            ]
          },
          "metadata": {
            "tags": []
          },
          "execution_count": 242
        }
      ]
    },
    {
      "cell_type": "code",
      "metadata": {
        "id": "RYSsA2ToARmm",
        "colab_type": "code",
        "outputId": "cb6ea97a-077b-4b6b-ad84-ff2e9c4670e1",
        "colab": {
          "base_uri": "https://localhost:8080/",
          "height": 54
        }
      },
      "source": [
        "'''from keras import optimizers\n",
        "from keras.utils import np_utils\n",
        "from keras.models import Sequential\n",
        "from keras.layers.core import Dense, Dropout, Activation\n",
        "\n",
        "Y_train = np_utils.to_categorical(y_train, 2)\n",
        "Y_test = np_utils.to_categorical(y_test, 2)\n",
        "\n",
        "NN = Sequential()\n",
        "NN.add(Dense(512, input_shape=(X_train.shape[1],)))\n",
        "NN.add(Activation(\"relu\"))\n",
        "NN.add(Dropout(0.2))\n",
        "NN.add(Dense(2))\n",
        "NN.add(Activation(\"softmax\"))\n",
        "\n",
        "optimizer = optimizers.SGD(lr=0.0001, decay=1e-6, momentum=0.9, nesterov=True)\n",
        "NN.compile(loss=\"categorical_crossentropy\", optimizer=optimizer, metrics=[\"accuracy\"])\n",
        "\n",
        "NN.summary()'''"
      ],
      "execution_count": 0,
      "outputs": [
        {
          "output_type": "execute_result",
          "data": {
            "text/plain": [
              "'from keras import optimizers\\nfrom keras.utils import np_utils\\nfrom keras.models import Sequential\\nfrom keras.layers.core import Dense, Dropout, Activation\\n\\nY_train = np_utils.to_categorical(y_train, 2)\\nY_test = np_utils.to_categorical(y_test, 2)\\n\\nNN = Sequential()\\nNN.add(Dense(512, input_shape=(X_train.shape[1],)))\\nNN.add(Activation(\"relu\"))\\nNN.add(Dropout(0.2))\\nNN.add(Dense(2))\\nNN.add(Activation(\"softmax\"))\\n\\noptimizer = optimizers.SGD(lr=0.0001, decay=1e-6, momentum=0.9, nesterov=True)\\nNN.compile(loss=\"categorical_crossentropy\", optimizer=optimizer, metrics=[\"accuracy\"])\\n\\nNN.summary()'"
            ]
          },
          "metadata": {
            "tags": []
          },
          "execution_count": 243
        }
      ]
    },
    {
      "cell_type": "markdown",
      "metadata": {
        "id": "N8ZOKt5rcFFw",
        "colab_type": "text"
      },
      "source": [
        "## Predictions for Kaggle\n",
        "\n",
        "We used the following fields for submissions on Kaggle."
      ]
    },
    {
      "cell_type": "code",
      "metadata": {
        "id": "-0xJxUzlc58_",
        "colab_type": "code",
        "colab": {}
      },
      "source": [
        "X = test['text_processed'] # the features we want to analyze"
      ],
      "execution_count": 0,
      "outputs": []
    },
    {
      "cell_type": "code",
      "metadata": {
        "id": "RmiR_SZgdPBR",
        "colab_type": "code",
        "colab": {}
      },
      "source": [
        "# Converting the tokens using CountVectorizer\n",
        "X_cv = cv.transform(X)"
      ],
      "execution_count": 0,
      "outputs": []
    },
    {
      "cell_type": "code",
      "metadata": {
        "id": "-XFF7Fgzy0aC",
        "colab_type": "code",
        "colab": {}
      },
      "source": [
        "# Converting the tokens using the tfdfvectorizer\n",
        "X_tfidf = tfidf.transform(X)"
      ],
      "execution_count": 0,
      "outputs": []
    },
    {
      "cell_type": "code",
      "metadata": {
        "id": "9xK84chWeNvz",
        "colab_type": "code",
        "colab": {}
      },
      "source": [
        "# CV: Computing the accuracy for each classifier\n",
        "# Each submission we specify the classifier we need before fitting\n",
        "voting_clf = VotingClassifier(estimators=[\n",
        "                              ('logistic', LogisticRegression(C = 0.0001, solver = 'lbfgs', max_iter = 200, class_weight = 'balanced')),\n",
        "                              ('Rforest', RandomForestClassifier(n_estimators = 200, class_weight = 'balanced' )),\n",
        "                              ('DTree', DecisionTreeClassifier(max_depth=100, class_weight = 'balanced')),\n",
        "                              ('svm', svm.SVC(kernel='rbf', C = 10.0, gamma=0.1, probability = True))\n",
        "                              ], voting='soft', weights=[1,2,1,2], flatten_transform=True)\n",
        "fit = voting_clf.fit(X_train_cv, y_train)\n",
        "test[\"target\"] = fit.predict(X_cv)"
      ],
      "execution_count": 0,
      "outputs": []
    },
    {
      "cell_type": "code",
      "metadata": {
        "id": "FpSkM3NqkH26",
        "colab_type": "code",
        "colab": {}
      },
      "source": [
        "test[[\"id\", \"target\"]].to_csv(\"UNIL_GOOGLE.csv\", index=False)"
      ],
      "execution_count": 0,
      "outputs": []
    },
    {
      "cell_type": "code",
      "metadata": {
        "id": "atc-Q1shm49q",
        "colab_type": "code",
        "outputId": "be3bbe2d-feb3-41da-f967-7c85a9fdab25",
        "colab": {
          "base_uri": "https://localhost:8080/",
          "height": 260
        }
      },
      "source": [
        "print(test[[\"id\", \"target\"]])"
      ],
      "execution_count": 0,
      "outputs": [
        {
          "output_type": "stream",
          "text": [
            "         id  target\n",
            "0         0       1\n",
            "1         2       1\n",
            "2         3       1\n",
            "3         9       1\n",
            "4        11       1\n",
            "...     ...     ...\n",
            "3258  10861       1\n",
            "3259  10865       1\n",
            "3260  10868       1\n",
            "3261  10874       1\n",
            "3262  10875       0\n",
            "\n",
            "[3263 rows x 2 columns]\n"
          ],
          "name": "stdout"
        }
      ]
    },
    {
      "cell_type": "code",
      "metadata": {
        "id": "gsIUbF3GlReK",
        "colab_type": "code",
        "colab": {}
      },
      "source": [
        "from google.colab import files\n",
        "files.download(\"UNIL_GOOGLE.csv\")"
      ],
      "execution_count": 0,
      "outputs": []
    },
    {
      "cell_type": "markdown",
      "metadata": {
        "id": "GOjCQ0xBs_yj",
        "colab_type": "text"
      },
      "source": [
        "## Word embedding"
      ]
    },
    {
      "cell_type": "markdown",
      "metadata": {
        "id": "m0JzLwYUUfJk",
        "colab_type": "text"
      },
      "source": [
        "A word embedding is a learned representation for a text where words that have the same meaning have a similar representation. It is this approach to the representation of words and documents that can be considered one of the major advances in the in-depth learning of the difficult problems of natural language processing.\n"
      ]
    },
    {
      "cell_type": "markdown",
      "metadata": {
        "id": "Zfn0zfSLUu86",
        "colab_type": "text"
      },
      "source": [
        "**Findings:** this model did not give us any interesting results that we did not exploit very much"
      ]
    },
    {
      "cell_type": "code",
      "metadata": {
        "id": "9bw1b7hPtIyl",
        "colab_type": "code",
        "colab": {}
      },
      "source": [
        "#Install requirement\n",
        "!pip install gensim"
      ],
      "execution_count": 0,
      "outputs": []
    },
    {
      "cell_type": "code",
      "metadata": {
        "id": "aLFFqH_ItNZg",
        "colab_type": "code",
        "colab": {}
      },
      "source": [
        "X_we = train['text_processed'].values\n",
        "y_we = train['target'].values\n",
        "X_we_t = train['text_processed'].values\n",
        "y_we_t = train['target'].values\n",
        "\n",
        "from tensorflow.keras.preprocessing.text import Tokenizer\n",
        "from tensorflow.keras.preprocessing.sequence import pad_sequences\n",
        "\n",
        "tokenizer_obj = Tokenizer()\n",
        "total_reviews = X_we + X_we_t\n",
        "tokenizer_obj.fit_on_texts(total_reviews)\n",
        "\n",
        "#pad sequence\n",
        "max_length= max([len(s.split()) for s in total_reviews])\n",
        "\n",
        "# voc size\n",
        "vocab_size = len(tokenizer_obj.word_index) +1\n",
        "\n",
        "X_we_tok = tokenizer_obj.texts_to_sequences(X_we)\n",
        "X_we_t_tok = tokenizer_obj.texts_to_sequences(X_we_t)\n",
        "\n",
        "X_we_pad = pad_sequences(X_we_tok, maxlen=max_length, padding='post')\n",
        "X_we_t_pad = pad_sequences(X_we_t_tok, maxlen=max_length, padding='post')"
      ],
      "execution_count": 0,
      "outputs": []
    },
    {
      "cell_type": "code",
      "metadata": {
        "id": "Xdx5ykfmtRR0",
        "colab_type": "code",
        "colab": {}
      },
      "source": [
        "from keras.models import Sequential\n",
        "from keras.layers import Embedding, Dense, LSTM,GRU\n",
        "from keras.layers.embeddings import Embedding\n",
        "EMBEDDING_DIM = 100\n",
        "\n",
        "model = Sequential()\n",
        "model.add(Embedding(vocab_size, EMBEDDING_DIM, input_length=max_length))\n",
        "model.add(GRU(units=32, dropout=0.2, recurrent_dropout=0.2))\n",
        "model.add(Dense(1,activation='sigmoid'))\n",
        "\n",
        "#try \n",
        "model.compile(loss='binary_crossentropy', optimizer='adam',metrics=['accuracy'])"
      ],
      "execution_count": 0,
      "outputs": []
    },
    {
      "cell_type": "code",
      "metadata": {
        "id": "DQ-jvPfHtTm7",
        "colab_type": "code",
        "colab": {}
      },
      "source": [
        "model.fit(X_we_pad,y_we, batch_size=128, epochs=25, validation_data=(X_we_t_pad,y_we_t), verbose=2)"
      ],
      "execution_count": 0,
      "outputs": []
    },
    {
      "cell_type": "markdown",
      "metadata": {
        "id": "8nRMFK15c4Oi",
        "colab_type": "text"
      },
      "source": [
        "##Our Predictions on Kaggle\n",
        "\n",
        "Please find here a summary of all our submissions on Kaggle. We did not submit everything we have done our notebook, as not every change (for example new algorithm or more data cleaning) improved our prediction. "
      ]
    },
    {
      "cell_type": "markdown",
      "metadata": {
        "id": "7mcLR5Sbgga8",
        "colab_type": "text"
      },
      "source": [
        "![alt text](https://github.com/SarahBuechner/BigScale_Disaster_true_or_not/blob/master/images/Table_predictions.png?raw=true)"
      ]
    },
    {
      "cell_type": "markdown",
      "metadata": {
        "id": "Jk_3ZrdcgyKF",
        "colab_type": "text"
      },
      "source": [
        "As you can see in the table above for nearly all our submissions we cleaned our data using Stemming, Lemmatization, Punctuation and Stopword removal. Then we added some other data cleaning methods. For example we removed emojis, special characters and we reclassified the wrongly classified wrong targets. We used Count and TF-IDF Vectorizer. Our best results were generally with the former. "
      ]
    },
    {
      "cell_type": "markdown",
      "metadata": {
        "id": "658OTspYgVND",
        "colab_type": "text"
      },
      "source": [
        "![alt text](https://github.com/SarahBuechner/BigScale_Disaster_true_or_not/blob/master/images/Graph_predictions.png?raw=true)"
      ]
    },
    {
      "cell_type": "markdown",
      "metadata": {
        "id": "rlhRMqQ7ifwl",
        "colab_type": "text"
      },
      "source": [
        "Our best estimations were with the ensemble classifier Voting. In fact with the 'soft' Voting we were able to obtain an accuracy of 0.807 and with 'hard' voting an accuracy of 0.808. "
      ]
    },
    {
      "cell_type": "code",
      "metadata": {
        "id": "JvpijqfIivBc",
        "colab_type": "code",
        "colab": {}
      },
      "source": [
        ""
      ],
      "execution_count": 0,
      "outputs": []
    }
  ]
}